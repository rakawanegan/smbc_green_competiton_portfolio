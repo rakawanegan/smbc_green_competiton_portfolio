{
 "cells": [
  {
   "cell_type": "markdown",
   "metadata": {},
   "source": [
    "# catboost model\n",
    "sample of catboost model.  \n",
    "local validation score is 0.3063986193670301.  \n",
    "this result is not good, but catboost don't have to feature engineering.\n",
    "so use for baseline model and ensemble with another model."
   ]
  },
  {
   "cell_type": "markdown",
   "metadata": {},
   "source": [
    "# import modules"
   ]
  },
  {
   "cell_type": "code",
   "execution_count": 1,
   "metadata": {},
   "outputs": [],
   "source": [
    "from sklearn.model_selection import train_test_split\n",
    "import numpy as np\n",
    "import pandas as pd\n",
    "from catboost import CatBoostClassifier\n",
    "import os\n",
    "from sklearn.metrics import f1_score"
   ]
  },
  {
   "cell_type": "markdown",
   "metadata": {},
   "source": [
    "# load data"
   ]
  },
  {
   "cell_type": "code",
   "execution_count": 2,
   "metadata": {},
   "outputs": [],
   "source": [
    "SEED = 314\n",
    "datasrc = \"data/official/\"\n",
    "data = pd.read_csv(os.path.join(datasrc, \"train.csv\"), index_col=0)\n",
    "x_test = pd.read_csv(os.path.join(datasrc, \"test.csv\"), index_col=0)\n",
    "\n",
    "train, valid = train_test_split(data, test_size=0.2, random_state=42, stratify=data[\"health\"])"
   ]
  },
  {
   "cell_type": "code",
   "execution_count": 3,
   "metadata": {},
   "outputs": [],
   "source": [
    "x_train = train.drop(\"health\", axis=1)\n",
    "y_train = train[\"health\"]\n",
    "x_valid = valid.drop(\"health\", axis=1)\n",
    "y_valid = valid[\"health\"]"
   ]
  },
  {
   "cell_type": "code",
   "execution_count": 4,
   "metadata": {},
   "outputs": [
    {
     "data": {
      "text/html": [
       "<div>\n",
       "<style scoped>\n",
       "    .dataframe tbody tr th:only-of-type {\n",
       "        vertical-align: middle;\n",
       "    }\n",
       "\n",
       "    .dataframe tbody tr th {\n",
       "        vertical-align: top;\n",
       "    }\n",
       "\n",
       "    .dataframe thead th {\n",
       "        text-align: right;\n",
       "    }\n",
       "</style>\n",
       "<table border=\"1\" class=\"dataframe\">\n",
       "  <thead>\n",
       "    <tr style=\"text-align: right;\">\n",
       "      <th></th>\n",
       "      <th>created_at</th>\n",
       "      <th>tree_dbh</th>\n",
       "      <th>curb_loc</th>\n",
       "      <th>steward</th>\n",
       "      <th>guards</th>\n",
       "      <th>sidewalk</th>\n",
       "      <th>user_type</th>\n",
       "      <th>problems</th>\n",
       "      <th>spc_common</th>\n",
       "      <th>spc_latin</th>\n",
       "      <th>nta</th>\n",
       "      <th>nta_name</th>\n",
       "      <th>borocode</th>\n",
       "      <th>boro_ct</th>\n",
       "      <th>boroname</th>\n",
       "      <th>zip_city</th>\n",
       "      <th>cb_num</th>\n",
       "      <th>st_senate</th>\n",
       "      <th>st_assem</th>\n",
       "      <th>cncldist</th>\n",
       "    </tr>\n",
       "  </thead>\n",
       "  <tbody>\n",
       "    <tr>\n",
       "      <th>2622</th>\n",
       "      <td>2016-06-10</td>\n",
       "      <td>3</td>\n",
       "      <td>OnCurb</td>\n",
       "      <td>1or2</td>\n",
       "      <td>Helpful</td>\n",
       "      <td>NoDamage</td>\n",
       "      <td>Volunteer</td>\n",
       "      <td>RootOtherTrunkOtherBranchOther</td>\n",
       "      <td>American elm</td>\n",
       "      <td>Ulmus americana</td>\n",
       "      <td>MN03</td>\n",
       "      <td>Central Harlem North-Polo Grounds</td>\n",
       "      <td>1</td>\n",
       "      <td>1021200</td>\n",
       "      <td>Manhattan</td>\n",
       "      <td>New York</td>\n",
       "      <td>110</td>\n",
       "      <td>30</td>\n",
       "      <td>70</td>\n",
       "      <td>9</td>\n",
       "    </tr>\n",
       "    <tr>\n",
       "      <th>13191</th>\n",
       "      <td>2015-11-04</td>\n",
       "      <td>6</td>\n",
       "      <td>OnCurb</td>\n",
       "      <td>NaN</td>\n",
       "      <td>NaN</td>\n",
       "      <td>Damage</td>\n",
       "      <td>Volunteer</td>\n",
       "      <td>NaN</td>\n",
       "      <td>pin oak</td>\n",
       "      <td>Quercus palustris</td>\n",
       "      <td>QN30</td>\n",
       "      <td>Maspeth</td>\n",
       "      <td>4</td>\n",
       "      <td>4052100</td>\n",
       "      <td>Queens</td>\n",
       "      <td>Maspeth</td>\n",
       "      <td>405</td>\n",
       "      <td>15</td>\n",
       "      <td>30</td>\n",
       "      <td>30</td>\n",
       "    </tr>\n",
       "    <tr>\n",
       "      <th>16871</th>\n",
       "      <td>2015-07-28</td>\n",
       "      <td>29</td>\n",
       "      <td>OnCurb</td>\n",
       "      <td>NaN</td>\n",
       "      <td>NaN</td>\n",
       "      <td>Damage</td>\n",
       "      <td>TreesCount Staff</td>\n",
       "      <td>NaN</td>\n",
       "      <td>red maple</td>\n",
       "      <td>Acer rubrum</td>\n",
       "      <td>SI28</td>\n",
       "      <td>Port Richmond</td>\n",
       "      <td>5</td>\n",
       "      <td>5021300</td>\n",
       "      <td>Staten Island</td>\n",
       "      <td>Staten Island</td>\n",
       "      <td>501</td>\n",
       "      <td>23</td>\n",
       "      <td>61</td>\n",
       "      <td>49</td>\n",
       "    </tr>\n",
       "    <tr>\n",
       "      <th>13477</th>\n",
       "      <td>2015-11-11</td>\n",
       "      <td>9</td>\n",
       "      <td>OnCurb</td>\n",
       "      <td>NaN</td>\n",
       "      <td>NaN</td>\n",
       "      <td>Damage</td>\n",
       "      <td>TreesCount Staff</td>\n",
       "      <td>StonesBranchLights</td>\n",
       "      <td>Callery pear</td>\n",
       "      <td>Pyrus calleryana</td>\n",
       "      <td>MN22</td>\n",
       "      <td>East Village</td>\n",
       "      <td>1</td>\n",
       "      <td>1003800</td>\n",
       "      <td>Manhattan</td>\n",
       "      <td>New York</td>\n",
       "      <td>103</td>\n",
       "      <td>27</td>\n",
       "      <td>66</td>\n",
       "      <td>2</td>\n",
       "    </tr>\n",
       "    <tr>\n",
       "      <th>10865</th>\n",
       "      <td>2015-10-28</td>\n",
       "      <td>32</td>\n",
       "      <td>OnCurb</td>\n",
       "      <td>NaN</td>\n",
       "      <td>NaN</td>\n",
       "      <td>NoDamage</td>\n",
       "      <td>TreesCount Staff</td>\n",
       "      <td>NaN</td>\n",
       "      <td>pin oak</td>\n",
       "      <td>Quercus palustris</td>\n",
       "      <td>SI11</td>\n",
       "      <td>Charleston-Richmond Valley-Tottenville</td>\n",
       "      <td>5</td>\n",
       "      <td>5022600</td>\n",
       "      <td>Staten Island</td>\n",
       "      <td>Staten Island</td>\n",
       "      <td>503</td>\n",
       "      <td>24</td>\n",
       "      <td>62</td>\n",
       "      <td>51</td>\n",
       "    </tr>\n",
       "  </tbody>\n",
       "</table>\n",
       "</div>"
      ],
      "text/plain": [
       "       created_at  tree_dbh curb_loc steward   guards  sidewalk  \\\n",
       "2622   2016-06-10         3   OnCurb    1or2  Helpful  NoDamage   \n",
       "13191  2015-11-04         6   OnCurb     NaN      NaN    Damage   \n",
       "16871  2015-07-28        29   OnCurb     NaN      NaN    Damage   \n",
       "13477  2015-11-11         9   OnCurb     NaN      NaN    Damage   \n",
       "10865  2015-10-28        32   OnCurb     NaN      NaN  NoDamage   \n",
       "\n",
       "              user_type                        problems    spc_common  \\\n",
       "2622          Volunteer  RootOtherTrunkOtherBranchOther  American elm   \n",
       "13191         Volunteer                             NaN       pin oak   \n",
       "16871  TreesCount Staff                             NaN     red maple   \n",
       "13477  TreesCount Staff              StonesBranchLights  Callery pear   \n",
       "10865  TreesCount Staff                             NaN       pin oak   \n",
       "\n",
       "               spc_latin   nta                                nta_name  \\\n",
       "2622     Ulmus americana  MN03       Central Harlem North-Polo Grounds   \n",
       "13191  Quercus palustris  QN30                                 Maspeth   \n",
       "16871        Acer rubrum  SI28                           Port Richmond   \n",
       "13477   Pyrus calleryana  MN22                            East Village   \n",
       "10865  Quercus palustris  SI11  Charleston-Richmond Valley-Tottenville   \n",
       "\n",
       "       borocode  boro_ct       boroname       zip_city  cb_num  st_senate  \\\n",
       "2622          1  1021200      Manhattan       New York     110         30   \n",
       "13191         4  4052100         Queens        Maspeth     405         15   \n",
       "16871         5  5021300  Staten Island  Staten Island     501         23   \n",
       "13477         1  1003800      Manhattan       New York     103         27   \n",
       "10865         5  5022600  Staten Island  Staten Island     503         24   \n",
       "\n",
       "       st_assem  cncldist  \n",
       "2622         70         9  \n",
       "13191        30        30  \n",
       "16871        61        49  \n",
       "13477        66         2  \n",
       "10865        62        51  "
      ]
     },
     "execution_count": 4,
     "metadata": {},
     "output_type": "execute_result"
    }
   ],
   "source": [
    "x_train.head()"
   ]
  },
  {
   "cell_type": "markdown",
   "metadata": {},
   "source": [
    "# preprocess data"
   ]
  },
  {
   "cell_type": "code",
   "execution_count": 5,
   "metadata": {},
   "outputs": [],
   "source": [
    "x_train.loc[:,'created_at'] = pd.to_datetime(x_train.loc[:,'created_at'])\n",
    "x_valid.loc[:,'created_at'] = pd.to_datetime(x_valid.loc[:,'created_at'])\n",
    "x_test.loc[:,'created_at'] = pd.to_datetime(x_test.loc[:,'created_at'])\n",
    "\n",
    "x_train = x_train.fillna(\"Dropped\")\n",
    "x_valid = x_valid.fillna(\"Dropped\")\n",
    "x_test = x_test.fillna(\"Dropped\")"
   ]
  },
  {
   "cell_type": "code",
   "execution_count": 6,
   "metadata": {},
   "outputs": [],
   "source": [
    "x_train.loc[:,'month'] = x_train.loc[:,'created_at'].dt.month\n",
    "x_valid.loc[:,'month'] = x_valid.loc[:,'created_at'].dt.month\n",
    "x_test.loc[:,'month'] = x_test.loc[:,'created_at'].dt.month\n",
    "\n",
    "x_train.loc[:,'day'] = x_train.loc[:,'created_at'].dt.day\n",
    "x_valid.loc[:,'day'] = x_valid.loc[:,'created_at'].dt.day\n",
    "x_test.loc[:,'day'] = x_test.loc[:,'created_at'].dt.day\n",
    "\n",
    "x_train.loc[:,'month_day_sin'] = np.sin(2 * np.pi * x_train.loc[:,'month'] / 12 + 2 * np.pi * x_train.loc[:,'day'] / 31)\n",
    "x_valid.loc[:,'month_day_sin'] = np.sin(2 * np.pi * x_valid.loc[:,'month'] / 12 + 2 * np.pi * x_valid.loc[:,'day'] / 31)\n",
    "x_test.loc[:,'month_day_sin'] = np.sin(2 * np.pi * x_test.loc[:,'month'] / 12 + 2 * np.pi * x_test.loc[:,'day'] / 31)\n",
    "\n",
    "x_train.loc[:,'month_day_cos'] = np.cos(2 * np.pi * x_train.loc[:,'month'] / 12 + 2 * np.pi * x_train.loc[:,'day'] / 31)\n",
    "x_valid.loc[:,'month_day_cos'] = np.cos(2 * np.pi * x_valid.loc[:,'month'] / 12 + 2 * np.pi * x_valid.loc[:,'day'] / 31)\n",
    "x_test.loc[:,'month_day_cos'] = np.cos(2 * np.pi * x_test.loc[:,'month'] / 12 + 2 * np.pi * x_test.loc[:,'day'] / 31)"
   ]
  },
  {
   "cell_type": "code",
   "execution_count": 7,
   "metadata": {},
   "outputs": [],
   "source": [
    "ignore_columns = [\n",
    "    \"created_at\",\n",
    "    \"month\",\n",
    "    \"day\",\n",
    "    \"problems\",\n",
    "    \"nta_name\",\n",
    "    \"boro_ct\",\n",
    "    \"boroname\",\n",
    "    \"zip_city\",\n",
    "    \"cb_num\",\n",
    "    \"st_senate\",\n",
    "    \"st_assem\",\n",
    "    \"cncldist\",\n",
    "]\n",
    "\n",
    "x_train = x_train.drop(ignore_columns, axis=1)\n",
    "x_valid = x_valid.drop(ignore_columns, axis=1)\n",
    "x_test = x_test.drop(ignore_columns, axis=1)"
   ]
  },
  {
   "cell_type": "code",
   "execution_count": 8,
   "metadata": {},
   "outputs": [
    {
     "name": "stdout",
     "output_type": "stream",
     "text": [
      "['curb_loc', 'steward', 'guards', 'sidewalk', 'user_type', 'spc_common', 'spc_latin', 'nta']\n"
     ]
    }
   ],
   "source": [
    "object_columns = x_train.select_dtypes(include=[\"object\"]).columns.tolist()\n",
    "print(object_columns)"
   ]
  },
  {
   "cell_type": "markdown",
   "metadata": {},
   "source": [
    "# train model"
   ]
  },
  {
   "cell_type": "code",
   "execution_count": 9,
   "metadata": {},
   "outputs": [],
   "source": [
    "model = CatBoostClassifier(\n",
    "    cat_features=object_columns,\n",
    "    iterations=214000, # 3000 < 29000 < 50000 < 100000 < 214000 is best\n",
    "    early_stopping_rounds=3000,\n",
    "    eval_metric='TotalF1',\n",
    "    random_seed=SEED,\n",
    "    learning_rate=0.001,\n",
    "    max_depth=10,\n",
    "    od_type='Iter',\n",
    "    task_type=\"GPU\",\n",
    "    devices='0:1',\n",
    "    verbose=1000,\n",
    "    )"
   ]
  },
  {
   "cell_type": "code",
   "execution_count": 10,
   "metadata": {},
   "outputs": [
    {
     "name": "stdout",
     "output_type": "stream",
     "text": [
      "0:\tlearn: 0.6992220\ttotal: 35.9ms\tremaining: 2h 8m 12s\n",
      "1000:\tlearn: 0.6948471\ttotal: 36.3s\tremaining: 2h 8m 42s\n",
      "2000:\tlearn: 0.6952950\ttotal: 1m 10s\tremaining: 2h 5m 1s\n",
      "3000:\tlearn: 0.6958909\ttotal: 1m 43s\tremaining: 2h 1m 23s\n",
      "4000:\tlearn: 0.6958909\ttotal: 2m 17s\tremaining: 2h 8s\n",
      "5000:\tlearn: 0.6976703\ttotal: 2m 51s\tremaining: 1h 59m 33s\n",
      "6000:\tlearn: 0.6988498\ttotal: 3m 26s\tremaining: 1h 59m 24s\n",
      "7000:\tlearn: 0.6995842\ttotal: 4m 1s\tremaining: 1h 58m 59s\n",
      "8000:\tlearn: 0.7011926\ttotal: 4m 36s\tremaining: 1h 58m 31s\n",
      "9000:\tlearn: 0.7023602\ttotal: 5m 11s\tremaining: 1h 58m 19s\n",
      "10000:\tlearn: 0.7058318\ttotal: 5m 46s\tremaining: 1h 57m 56s\n",
      "11000:\tlearn: 0.7089795\ttotal: 6m 21s\tremaining: 1h 57m 25s\n",
      "12000:\tlearn: 0.7115324\ttotal: 6m 56s\tremaining: 1h 56m 56s\n",
      "13000:\tlearn: 0.7144938\ttotal: 7m 31s\tremaining: 1h 56m 20s\n",
      "14000:\tlearn: 0.7167307\ttotal: 8m 6s\tremaining: 1h 55m 47s\n",
      "15000:\tlearn: 0.7207415\ttotal: 8m 41s\tremaining: 1h 55m 16s\n",
      "16000:\tlearn: 0.7241652\ttotal: 9m 16s\tremaining: 1h 54m 42s\n",
      "17000:\tlearn: 0.7295594\ttotal: 9m 51s\tremaining: 1h 54m 12s\n",
      "18000:\tlearn: 0.7357776\ttotal: 10m 26s\tremaining: 1h 53m 41s\n",
      "19000:\tlearn: 0.7414892\ttotal: 11m 2s\tremaining: 1h 53m 13s\n",
      "20000:\tlearn: 0.7482157\ttotal: 11m 37s\tremaining: 1h 52m 48s\n",
      "21000:\tlearn: 0.7539385\ttotal: 12m 13s\tremaining: 1h 52m 19s\n",
      "22000:\tlearn: 0.7592015\ttotal: 12m 48s\tremaining: 1h 51m 50s\n",
      "23000:\tlearn: 0.7654369\ttotal: 13m 24s\tremaining: 1h 51m 20s\n",
      "24000:\tlearn: 0.7713197\ttotal: 14m\tremaining: 1h 50m 50s\n",
      "25000:\tlearn: 0.7769725\ttotal: 14m 35s\tremaining: 1h 50m 20s\n",
      "26000:\tlearn: 0.7837403\ttotal: 15m 11s\tremaining: 1h 49m 49s\n",
      "27000:\tlearn: 0.7890645\ttotal: 15m 46s\tremaining: 1h 49m 17s\n",
      "28000:\tlearn: 0.7952671\ttotal: 16m 22s\tremaining: 1h 48m 45s\n",
      "29000:\tlearn: 0.8017560\ttotal: 16m 57s\tremaining: 1h 48m 13s\n",
      "30000:\tlearn: 0.8086396\ttotal: 17m 33s\tremaining: 1h 47m 43s\n",
      "31000:\tlearn: 0.8154791\ttotal: 18m 9s\tremaining: 1h 47m 13s\n",
      "32000:\tlearn: 0.8211544\ttotal: 18m 45s\tremaining: 1h 46m 43s\n",
      "33000:\tlearn: 0.8266201\ttotal: 19m 22s\tremaining: 1h 46m 16s\n",
      "34000:\tlearn: 0.8329041\ttotal: 19m 58s\tremaining: 1h 45m 45s\n",
      "35000:\tlearn: 0.8395232\ttotal: 20m 34s\tremaining: 1h 45m 13s\n",
      "36000:\tlearn: 0.8455254\ttotal: 21m 10s\tremaining: 1h 44m 41s\n",
      "37000:\tlearn: 0.8506646\ttotal: 21m 46s\tremaining: 1h 44m 7s\n",
      "38000:\tlearn: 0.8551525\ttotal: 22m 21s\tremaining: 1h 43m 34s\n",
      "39000:\tlearn: 0.8608143\ttotal: 22m 57s\tremaining: 1h 43m\n",
      "40000:\tlearn: 0.8658570\ttotal: 23m 33s\tremaining: 1h 42m 26s\n",
      "41000:\tlearn: 0.8711132\ttotal: 24m 8s\tremaining: 1h 41m 52s\n",
      "42000:\tlearn: 0.8771142\ttotal: 24m 44s\tremaining: 1h 41m 19s\n",
      "43000:\tlearn: 0.8807537\ttotal: 25m 20s\tremaining: 1h 40m 46s\n",
      "44000:\tlearn: 0.8867102\ttotal: 25m 56s\tremaining: 1h 40m 14s\n",
      "45000:\tlearn: 0.8918160\ttotal: 26m 33s\tremaining: 1h 39m 42s\n",
      "46000:\tlearn: 0.8961466\ttotal: 27m 9s\tremaining: 1h 39m 10s\n",
      "47000:\tlearn: 0.8996643\ttotal: 27m 45s\tremaining: 1h 38m 36s\n",
      "48000:\tlearn: 0.9035695\ttotal: 28m 21s\tremaining: 1h 38m 3s\n",
      "49000:\tlearn: 0.9067277\ttotal: 28m 56s\tremaining: 1h 37m 28s\n",
      "50000:\tlearn: 0.9106899\ttotal: 29m 32s\tremaining: 1h 36m 54s\n",
      "51000:\tlearn: 0.9147132\ttotal: 30m 8s\tremaining: 1h 36m 20s\n",
      "52000:\tlearn: 0.9193545\ttotal: 30m 44s\tremaining: 1h 35m 45s\n",
      "53000:\tlearn: 0.9237824\ttotal: 31m 20s\tremaining: 1h 35m 11s\n",
      "54000:\tlearn: 0.9273835\ttotal: 31m 56s\tremaining: 1h 34m 37s\n",
      "55000:\tlearn: 0.9303938\ttotal: 32m 32s\tremaining: 1h 34m 3s\n",
      "56000:\tlearn: 0.9328031\ttotal: 33m 8s\tremaining: 1h 33m 29s\n",
      "57000:\tlearn: 0.9354246\ttotal: 33m 44s\tremaining: 1h 32m 55s\n",
      "58000:\tlearn: 0.9378692\ttotal: 34m 20s\tremaining: 1h 32m 21s\n",
      "59000:\tlearn: 0.9398014\ttotal: 34m 56s\tremaining: 1h 31m 47s\n",
      "60000:\tlearn: 0.9428424\ttotal: 35m 32s\tremaining: 1h 31m 13s\n",
      "61000:\tlearn: 0.9450618\ttotal: 36m 8s\tremaining: 1h 30m 38s\n",
      "62000:\tlearn: 0.9471821\ttotal: 36m 44s\tremaining: 1h 30m 3s\n",
      "63000:\tlearn: 0.9489229\ttotal: 37m 19s\tremaining: 1h 29m 28s\n",
      "64000:\tlearn: 0.9512122\ttotal: 37m 55s\tremaining: 1h 28m 52s\n",
      "65000:\tlearn: 0.9529370\ttotal: 38m 31s\tremaining: 1h 28m 17s\n",
      "66000:\tlearn: 0.9547458\ttotal: 39m 7s\tremaining: 1h 27m 44s\n",
      "67000:\tlearn: 0.9566022\ttotal: 39m 43s\tremaining: 1h 27m 10s\n",
      "68000:\tlearn: 0.9587957\ttotal: 40m 20s\tremaining: 1h 26m 35s\n",
      "69000:\tlearn: 0.9609779\ttotal: 40m 56s\tremaining: 1h 26m 1s\n",
      "70000:\tlearn: 0.9627454\ttotal: 41m 32s\tremaining: 1h 25m 26s\n",
      "71000:\tlearn: 0.9647095\ttotal: 42m 7s\tremaining: 1h 24m 51s\n",
      "72000:\tlearn: 0.9663993\ttotal: 42m 43s\tremaining: 1h 24m 16s\n",
      "73000:\tlearn: 0.9682168\ttotal: 43m 19s\tremaining: 1h 23m 40s\n",
      "74000:\tlearn: 0.9695614\ttotal: 43m 55s\tremaining: 1h 23m 5s\n",
      "75000:\tlearn: 0.9712979\ttotal: 44m 30s\tremaining: 1h 22m 30s\n",
      "76000:\tlearn: 0.9722280\ttotal: 45m 6s\tremaining: 1h 21m 54s\n",
      "77000:\tlearn: 0.9737502\ttotal: 45m 42s\tremaining: 1h 21m 19s\n",
      "78000:\tlearn: 0.9749363\ttotal: 46m 18s\tremaining: 1h 20m 44s\n",
      "79000:\tlearn: 0.9761894\ttotal: 46m 54s\tremaining: 1h 20m 9s\n",
      "80000:\tlearn: 0.9772449\ttotal: 47m 30s\tremaining: 1h 19m 34s\n",
      "81000:\tlearn: 0.9786227\ttotal: 48m 6s\tremaining: 1h 18m 59s\n",
      "82000:\tlearn: 0.9796688\ttotal: 48m 42s\tremaining: 1h 18m 24s\n",
      "83000:\tlearn: 0.9808367\ttotal: 49m 18s\tremaining: 1h 17m 49s\n",
      "84000:\tlearn: 0.9818128\ttotal: 49m 53s\tremaining: 1h 17m 13s\n",
      "85000:\tlearn: 0.9829849\ttotal: 50m 29s\tremaining: 1h 16m 37s\n",
      "86000:\tlearn: 0.9837644\ttotal: 51m 4s\tremaining: 1h 16m 1s\n",
      "87000:\tlearn: 0.9845399\ttotal: 51m 40s\tremaining: 1h 15m 25s\n",
      "88000:\tlearn: 0.9851820\ttotal: 52m 15s\tremaining: 1h 14m 49s\n",
      "89000:\tlearn: 0.9858287\ttotal: 52m 51s\tremaining: 1h 14m 13s\n",
      "90000:\tlearn: 0.9866678\ttotal: 53m 27s\tremaining: 1h 13m 38s\n",
      "91000:\tlearn: 0.9873121\ttotal: 54m 2s\tremaining: 1h 13m 3s\n",
      "92000:\tlearn: 0.9878889\ttotal: 54m 38s\tremaining: 1h 12m 27s\n",
      "93000:\tlearn: 0.9885315\ttotal: 55m 14s\tremaining: 1h 11m 52s\n",
      "94000:\tlearn: 0.9894295\ttotal: 55m 50s\tremaining: 1h 11m 17s\n",
      "95000:\tlearn: 0.9896857\ttotal: 56m 26s\tremaining: 1h 10m 41s\n",
      "96000:\tlearn: 0.9901337\ttotal: 57m 2s\tremaining: 1h 10m 6s\n",
      "97000:\tlearn: 0.9904534\ttotal: 57m 37s\tremaining: 1h 9m 30s\n",
      "98000:\tlearn: 0.9910283\ttotal: 58m 13s\tremaining: 1h 8m 54s\n",
      "99000:\tlearn: 0.9914111\ttotal: 58m 48s\tremaining: 1h 8m 19s\n",
      "100000:\tlearn: 0.9917299\ttotal: 59m 24s\tremaining: 1h 7m 43s\n",
      "101000:\tlearn: 0.9922394\ttotal: 59m 59s\tremaining: 1h 7m 7s\n",
      "102000:\tlearn: 0.9924940\ttotal: 1h 35s\tremaining: 1h 6m 32s\n",
      "103000:\tlearn: 0.9930026\ttotal: 1h 1m 11s\tremaining: 1h 5m 56s\n",
      "104000:\tlearn: 0.9933837\ttotal: 1h 1m 47s\tremaining: 1h 5m 21s\n",
      "105000:\tlearn: 0.9935741\ttotal: 1h 2m 23s\tremaining: 1h 4m 45s\n",
      "106000:\tlearn: 0.9940815\ttotal: 1h 2m 59s\tremaining: 1h 4m 10s\n",
      "107000:\tlearn: 0.9946516\ttotal: 1h 3m 35s\tremaining: 1h 3m 34s\n",
      "108000:\tlearn: 0.9949047\ttotal: 1h 4m 10s\tremaining: 1h 2m 59s\n",
      "109000:\tlearn: 0.9951577\ttotal: 1h 4m 46s\tremaining: 1h 2m 23s\n",
      "110000:\tlearn: 0.9954105\ttotal: 1h 5m 21s\tremaining: 1h 1m 47s\n",
      "111000:\tlearn: 0.9956632\ttotal: 1h 5m 57s\tremaining: 1h 1m 11s\n",
      "112000:\tlearn: 0.9959158\ttotal: 1h 6m 33s\tremaining: 1h 36s\n",
      "113000:\tlearn: 0.9962313\ttotal: 1h 7m 8s\tremaining: 1h\n",
      "114000:\tlearn: 0.9963574\ttotal: 1h 7m 44s\tremaining: 59m 25s\n",
      "115000:\tlearn: 0.9965466\ttotal: 1h 8m 20s\tremaining: 58m 49s\n",
      "116000:\tlearn: 0.9966726\ttotal: 1h 8m 55s\tremaining: 58m 14s\n",
      "117000:\tlearn: 0.9969246\ttotal: 1h 9m 31s\tremaining: 57m 38s\n",
      "118000:\tlearn: 0.9971135\ttotal: 1h 10m 7s\tremaining: 57m 3s\n",
      "119000:\tlearn: 0.9973023\ttotal: 1h 10m 43s\tremaining: 56m 27s\n",
      "120000:\tlearn: 0.9973652\ttotal: 1h 11m 18s\tremaining: 55m 51s\n",
      "121000:\tlearn: 0.9974910\ttotal: 1h 11m 54s\tremaining: 55m 15s\n",
      "122000:\tlearn: 0.9976797\ttotal: 1h 12m 29s\tremaining: 54m 40s\n",
      "123000:\tlearn: 0.9978683\ttotal: 1h 13m 5s\tremaining: 54m 4s\n",
      "124000:\tlearn: 0.9981196\ttotal: 1h 13m 41s\tremaining: 53m 28s\n",
      "125000:\tlearn: 0.9982452\ttotal: 1h 14m 16s\tremaining: 52m 53s\n",
      "126000:\tlearn: 0.9983080\ttotal: 1h 14m 52s\tremaining: 52m 17s\n",
      "127000:\tlearn: 0.9984335\ttotal: 1h 15m 28s\tremaining: 51m 42s\n",
      "128000:\tlearn: 0.9986845\ttotal: 1h 16m 3s\tremaining: 51m 6s\n",
      "129000:\tlearn: 0.9986845\ttotal: 1h 16m 39s\tremaining: 50m 30s\n",
      "130000:\tlearn: 0.9988100\ttotal: 1h 17m 15s\tremaining: 49m 55s\n",
      "131000:\tlearn: 0.9989354\ttotal: 1h 17m 51s\tremaining: 49m 19s\n",
      "132000:\tlearn: 0.9990608\ttotal: 1h 18m 29s\tremaining: 48m 45s\n",
      "133000:\tlearn: 0.9991234\ttotal: 1h 19m 4s\tremaining: 48m 9s\n",
      "134000:\tlearn: 0.9991234\ttotal: 1h 19m 40s\tremaining: 47m 33s\n",
      "135000:\tlearn: 0.9992488\ttotal: 1h 20m 15s\tremaining: 46m 58s\n",
      "136000:\tlearn: 0.9992488\ttotal: 1h 20m 51s\tremaining: 46m 22s\n",
      "137000:\tlearn: 0.9993741\ttotal: 1h 21m 26s\tremaining: 45m 46s\n",
      "138000:\tlearn: 0.9993741\ttotal: 1h 22m 2s\tremaining: 45m 10s\n",
      "139000:\tlearn: 0.9993741\ttotal: 1h 22m 38s\tremaining: 44m 35s\n",
      "140000:\tlearn: 0.9993741\ttotal: 1h 23m 13s\tremaining: 43m 59s\n",
      "141000:\tlearn: 0.9994367\ttotal: 1h 23m 49s\tremaining: 43m 23s\n",
      "142000:\tlearn: 0.9994367\ttotal: 1h 24m 25s\tremaining: 42m 48s\n",
      "143000:\tlearn: 0.9994367\ttotal: 1h 25m\tremaining: 42m 12s\n",
      "144000:\tlearn: 0.9994367\ttotal: 1h 25m 36s\tremaining: 41m 36s\n",
      "145000:\tlearn: 0.9994367\ttotal: 1h 26m 11s\tremaining: 41m\n",
      "146000:\tlearn: 0.9994367\ttotal: 1h 26m 47s\tremaining: 40m 25s\n",
      "147000:\tlearn: 0.9994367\ttotal: 1h 27m 22s\tremaining: 39m 49s\n",
      "148000:\tlearn: 0.9994367\ttotal: 1h 27m 58s\tremaining: 39m 13s\n",
      "149000:\tlearn: 0.9994367\ttotal: 1h 28m 33s\tremaining: 38m 38s\n",
      "150000:\tlearn: 0.9994367\ttotal: 1h 29m 9s\tremaining: 38m 2s\n",
      "151000:\tlearn: 0.9994367\ttotal: 1h 29m 45s\tremaining: 37m 26s\n",
      "152000:\tlearn: 0.9994367\ttotal: 1h 30m 21s\tremaining: 36m 51s\n",
      "153000:\tlearn: 0.9994367\ttotal: 1h 30m 56s\tremaining: 36m 15s\n",
      "154000:\tlearn: 0.9994367\ttotal: 1h 31m 32s\tremaining: 35m 39s\n",
      "155000:\tlearn: 0.9994367\ttotal: 1h 32m 8s\tremaining: 35m 4s\n",
      "156000:\tlearn: 0.9994993\ttotal: 1h 32m 43s\tremaining: 34m 28s\n",
      "157000:\tlearn: 0.9994993\ttotal: 1h 33m 19s\tremaining: 33m 52s\n",
      "158000:\tlearn: 0.9994993\ttotal: 1h 33m 54s\tremaining: 33m 17s\n",
      "159000:\tlearn: 0.9994993\ttotal: 1h 34m 30s\tremaining: 32m 41s\n",
      "160000:\tlearn: 0.9995619\ttotal: 1h 35m 5s\tremaining: 32m 5s\n",
      "161000:\tlearn: 0.9995619\ttotal: 1h 35m 40s\tremaining: 31m 29s\n",
      "162000:\tlearn: 0.9995619\ttotal: 1h 36m 16s\tremaining: 30m 54s\n",
      "163000:\tlearn: 0.9995619\ttotal: 1h 36m 52s\tremaining: 30m 18s\n",
      "164000:\tlearn: 0.9995619\ttotal: 1h 37m 28s\tremaining: 29m 42s\n",
      "165000:\tlearn: 0.9996245\ttotal: 1h 38m 3s\tremaining: 29m 7s\n",
      "166000:\tlearn: 0.9996245\ttotal: 1h 38m 39s\tremaining: 28m 31s\n",
      "167000:\tlearn: 0.9996245\ttotal: 1h 39m 14s\tremaining: 27m 55s\n",
      "168000:\tlearn: 0.9996871\ttotal: 1h 39m 50s\tremaining: 27m 20s\n",
      "169000:\tlearn: 0.9996871\ttotal: 1h 40m 25s\tremaining: 26m 44s\n",
      "170000:\tlearn: 0.9997497\ttotal: 1h 41m\tremaining: 26m 8s\n",
      "171000:\tlearn: 0.9997497\ttotal: 1h 41m 36s\tremaining: 25m 32s\n",
      "172000:\tlearn: 0.9997497\ttotal: 1h 42m 11s\tremaining: 24m 57s\n",
      "173000:\tlearn: 0.9997497\ttotal: 1h 42m 47s\tremaining: 24m 21s\n",
      "174000:\tlearn: 0.9997497\ttotal: 1h 43m 23s\tremaining: 23m 45s\n",
      "175000:\tlearn: 0.9997497\ttotal: 1h 43m 58s\tremaining: 23m 10s\n",
      "176000:\tlearn: 0.9997497\ttotal: 1h 44m 34s\tremaining: 22m 34s\n",
      "177000:\tlearn: 0.9998123\ttotal: 1h 45m 9s\tremaining: 21m 58s\n",
      "178000:\tlearn: 0.9998123\ttotal: 1h 45m 45s\tremaining: 21m 23s\n",
      "179000:\tlearn: 0.9998123\ttotal: 1h 46m 20s\tremaining: 20m 47s\n",
      "180000:\tlearn: 0.9998123\ttotal: 1h 46m 56s\tremaining: 20m 11s\n",
      "181000:\tlearn: 0.9998123\ttotal: 1h 47m 31s\tremaining: 19m 36s\n",
      "182000:\tlearn: 0.9998123\ttotal: 1h 48m 7s\tremaining: 19m\n",
      "183000:\tlearn: 0.9998123\ttotal: 1h 48m 42s\tremaining: 18m 24s\n",
      "184000:\tlearn: 0.9998749\ttotal: 1h 49m 17s\tremaining: 17m 49s\n",
      "185000:\tlearn: 0.9998749\ttotal: 1h 49m 53s\tremaining: 17m 13s\n",
      "186000:\tlearn: 0.9998749\ttotal: 1h 50m 29s\tremaining: 16m 37s\n",
      "187000:\tlearn: 0.9998749\ttotal: 1h 51m 4s\tremaining: 16m 2s\n",
      "188000:\tlearn: 0.9998749\ttotal: 1h 51m 40s\tremaining: 15m 26s\n",
      "189000:\tlearn: 0.9999374\ttotal: 1h 52m 15s\tremaining: 14m 50s\n",
      "190000:\tlearn: 0.9999374\ttotal: 1h 52m 51s\tremaining: 14m 15s\n",
      "191000:\tlearn: 0.9999374\ttotal: 1h 53m 26s\tremaining: 13m 39s\n",
      "192000:\tlearn: 0.9999374\ttotal: 1h 54m 2s\tremaining: 13m 3s\n",
      "193000:\tlearn: 0.9999374\ttotal: 1h 54m 37s\tremaining: 12m 28s\n",
      "194000:\tlearn: 0.9999374\ttotal: 1h 55m 12s\tremaining: 11m 52s\n",
      "195000:\tlearn: 0.9999374\ttotal: 1h 55m 47s\tremaining: 11m 16s\n",
      "196000:\tlearn: 0.9999374\ttotal: 1h 56m 23s\tremaining: 10m 41s\n",
      "197000:\tlearn: 0.9999374\ttotal: 1h 56m 58s\tremaining: 10m 5s\n",
      "198000:\tlearn: 0.9999374\ttotal: 1h 57m 34s\tremaining: 9m 30s\n",
      "199000:\tlearn: 0.9999374\ttotal: 1h 58m 10s\tremaining: 8m 54s\n",
      "200000:\tlearn: 0.9999374\ttotal: 1h 58m 45s\tremaining: 8m 18s\n",
      "201000:\tlearn: 0.9999374\ttotal: 1h 59m 21s\tremaining: 7m 43s\n",
      "202000:\tlearn: 0.9999374\ttotal: 1h 59m 57s\tremaining: 7m 7s\n",
      "203000:\tlearn: 0.9999374\ttotal: 2h 32s\tremaining: 6m 31s\n",
      "204000:\tlearn: 0.9999374\ttotal: 2h 1m 7s\tremaining: 5m 56s\n",
      "205000:\tlearn: 0.9999374\ttotal: 2h 1m 43s\tremaining: 5m 20s\n",
      "206000:\tlearn: 0.9999374\ttotal: 2h 2m 18s\tremaining: 4m 44s\n",
      "207000:\tlearn: 0.9999374\ttotal: 2h 2m 54s\tremaining: 4m 9s\n",
      "208000:\tlearn: 0.9999374\ttotal: 2h 3m 29s\tremaining: 3m 33s\n",
      "209000:\tlearn: 0.9999374\ttotal: 2h 4m 4s\tremaining: 2m 58s\n",
      "210000:\tlearn: 0.9999374\ttotal: 2h 4m 40s\tremaining: 2m 22s\n",
      "211000:\tlearn: 0.9999374\ttotal: 2h 5m 16s\tremaining: 1m 46s\n",
      "212000:\tlearn: 0.9999374\ttotal: 2h 5m 51s\tremaining: 1m 11s\n",
      "213000:\tlearn: 0.9999374\ttotal: 2h 6m 27s\tremaining: 35.6s\n",
      "213999:\tlearn: 0.9999374\ttotal: 2h 7m 3s\tremaining: 0us\n"
     ]
    },
    {
     "data": {
      "text/plain": [
       "<catboost.core.CatBoostClassifier at 0x1202fc4c400>"
      ]
     },
     "execution_count": 10,
     "metadata": {},
     "output_type": "execute_result"
    }
   ],
   "source": [
    "model.fit(x_train, y_train)"
   ]
  },
  {
   "cell_type": "markdown",
   "metadata": {},
   "source": [
    "# predict"
   ]
  },
  {
   "cell_type": "code",
   "execution_count": 11,
   "metadata": {},
   "outputs": [],
   "source": [
    "y_pred = model.predict(x_valid)\n",
    "y_prob = model.predict_proba(x_valid)"
   ]
  },
  {
   "cell_type": "markdown",
   "metadata": {},
   "source": [
    "# compare prediction vs actual"
   ]
  },
  {
   "cell_type": "code",
   "execution_count": 18,
   "metadata": {},
   "outputs": [
    {
     "data": {
      "text/plain": [
       "health\n",
       "1    0.788203\n",
       "0    0.176894\n",
       "2    0.034903\n",
       "Name: proportion, dtype: float64"
      ]
     },
     "execution_count": 18,
     "metadata": {},
     "output_type": "execute_result"
    }
   ],
   "source": [
    "y_train.value_counts(normalize=True)"
   ]
  },
  {
   "cell_type": "code",
   "execution_count": 12,
   "metadata": {},
   "outputs": [
    {
     "data": {
      "text/plain": [
       "1    0.974481\n",
       "0    0.025019\n",
       "2    0.000500\n",
       "Name: proportion, dtype: float64"
      ]
     },
     "execution_count": 12,
     "metadata": {},
     "output_type": "execute_result"
    }
   ],
   "source": [
    "pd.DataFrame(y_pred).value_counts(normalize=True)"
   ]
  },
  {
   "cell_type": "markdown",
   "metadata": {},
   "source": [
    "# calculate score"
   ]
  },
  {
   "cell_type": "code",
   "execution_count": 13,
   "metadata": {},
   "outputs": [
    {
     "data": {
      "text/plain": [
       "0.3063986193670301"
      ]
     },
     "execution_count": 13,
     "metadata": {},
     "output_type": "execute_result"
    }
   ],
   "source": [
    "f1_score(y_valid, y_pred, average='macro')"
   ]
  },
  {
   "cell_type": "markdown",
   "metadata": {},
   "source": [
    "# maximize score"
   ]
  },
  {
   "cell_type": "code",
   "execution_count": 14,
   "metadata": {},
   "outputs": [
    {
     "data": {
      "text/plain": [
       "0.33836040138968304"
      ]
     },
     "execution_count": 14,
     "metadata": {},
     "output_type": "execute_result"
    }
   ],
   "source": [
    "# this model's maximize f1 score\n",
    "def sort_predict(model, x, ratios=[0.176, 0.788, 0.035]):\n",
    "    pred = model.predict_proba(x)\n",
    "    pred = pd.DataFrame(pred, columns=[\"good\", \"normal\", \"bad\"], index=x.index)\n",
    "    good_count = int(len(x)*ratios[0])\n",
    "    # normal_count = int(len(x)*ratios[1])\n",
    "    bad_count = int(len(x)*ratios[2])\n",
    "    pred_sortbybad = pred.sort_values(by=\"bad\", ascending=False)\n",
    "    # pred_sortbynormal = pred.sort_values(by=\"normal\", ascending=False)\n",
    "    pred_sortbygood = pred.sort_values(by=\"good\", ascending=False)\n",
    "    pred[\"health\"] = 1\n",
    "    pred.loc[pred_sortbybad.iloc[:bad_count, :].index, \"health\"] = 2\n",
    "    pred.loc[pred_sortbygood.iloc[:good_count, :].index, \"health\"] = 0\n",
    "    return pred[\"health\"]\n",
    "\n",
    "ratio = train[\"health\"].value_counts(normalize=True).sort_index()\n",
    "f1_score(y_valid, sort_predict(model, x_valid, ratio), average=\"macro\")"
   ]
  },
  {
   "cell_type": "markdown",
   "metadata": {},
   "source": [
    "# analyze model"
   ]
  },
  {
   "cell_type": "code",
   "execution_count": 15,
   "metadata": {},
   "outputs": [
    {
     "data": {
      "text/html": [
       "<div>\n",
       "<style scoped>\n",
       "    .dataframe tbody tr th:only-of-type {\n",
       "        vertical-align: middle;\n",
       "    }\n",
       "\n",
       "    .dataframe tbody tr th {\n",
       "        vertical-align: top;\n",
       "    }\n",
       "\n",
       "    .dataframe thead th {\n",
       "        text-align: right;\n",
       "    }\n",
       "</style>\n",
       "<table border=\"1\" class=\"dataframe\">\n",
       "  <thead>\n",
       "    <tr style=\"text-align: right;\">\n",
       "      <th></th>\n",
       "      <th>Feature Id</th>\n",
       "      <th>Importances</th>\n",
       "    </tr>\n",
       "  </thead>\n",
       "  <tbody>\n",
       "    <tr>\n",
       "      <th>0</th>\n",
       "      <td>nta</td>\n",
       "      <td>20.906735</td>\n",
       "    </tr>\n",
       "    <tr>\n",
       "      <th>1</th>\n",
       "      <td>spc_common</td>\n",
       "      <td>18.509285</td>\n",
       "    </tr>\n",
       "    <tr>\n",
       "      <th>2</th>\n",
       "      <td>tree_dbh</td>\n",
       "      <td>11.169107</td>\n",
       "    </tr>\n",
       "    <tr>\n",
       "      <th>3</th>\n",
       "      <td>month_day_cos</td>\n",
       "      <td>9.822904</td>\n",
       "    </tr>\n",
       "    <tr>\n",
       "      <th>4</th>\n",
       "      <td>month_day_sin</td>\n",
       "      <td>9.762655</td>\n",
       "    </tr>\n",
       "    <tr>\n",
       "      <th>5</th>\n",
       "      <td>user_type</td>\n",
       "      <td>8.166497</td>\n",
       "    </tr>\n",
       "    <tr>\n",
       "      <th>6</th>\n",
       "      <td>borocode</td>\n",
       "      <td>7.733324</td>\n",
       "    </tr>\n",
       "    <tr>\n",
       "      <th>7</th>\n",
       "      <td>sidewalk</td>\n",
       "      <td>6.119985</td>\n",
       "    </tr>\n",
       "    <tr>\n",
       "      <th>8</th>\n",
       "      <td>guards</td>\n",
       "      <td>5.409644</td>\n",
       "    </tr>\n",
       "    <tr>\n",
       "      <th>9</th>\n",
       "      <td>steward</td>\n",
       "      <td>1.935396</td>\n",
       "    </tr>\n",
       "    <tr>\n",
       "      <th>10</th>\n",
       "      <td>curb_loc</td>\n",
       "      <td>0.464470</td>\n",
       "    </tr>\n",
       "    <tr>\n",
       "      <th>11</th>\n",
       "      <td>spc_latin</td>\n",
       "      <td>0.000000</td>\n",
       "    </tr>\n",
       "  </tbody>\n",
       "</table>\n",
       "</div>"
      ],
      "text/plain": [
       "       Feature Id  Importances\n",
       "0             nta    20.906735\n",
       "1      spc_common    18.509285\n",
       "2        tree_dbh    11.169107\n",
       "3   month_day_cos     9.822904\n",
       "4   month_day_sin     9.762655\n",
       "5       user_type     8.166497\n",
       "6        borocode     7.733324\n",
       "7        sidewalk     6.119985\n",
       "8          guards     5.409644\n",
       "9         steward     1.935396\n",
       "10       curb_loc     0.464470\n",
       "11      spc_latin     0.000000"
      ]
     },
     "execution_count": 15,
     "metadata": {},
     "output_type": "execute_result"
    }
   ],
   "source": [
    "model.get_feature_importance(\n",
    "    prettified=True,\n",
    "    type=\"PredictionValuesChange\",\n",
    "    )"
   ]
  },
  {
   "cell_type": "markdown",
   "metadata": {},
   "source": [
    "# make submission"
   ]
  },
  {
   "cell_type": "code",
   "execution_count": 16,
   "metadata": {},
   "outputs": [],
   "source": [
    "y_test = model.predict(x_test)"
   ]
  },
  {
   "cell_type": "code",
   "execution_count": 17,
   "metadata": {},
   "outputs": [],
   "source": [
    "submission = pd.DataFrame(y_test, index=x_test.index, columns=[\"health\"])\n",
    "submission.to_csv(\"submission/catboost_submission.csv\", header=False)"
   ]
  }
 ],
 "metadata": {
  "kernelspec": {
   "display_name": "Python 3",
   "language": "python",
   "name": "python3"
  },
  "language_info": {
   "codemirror_mode": {
    "name": "ipython",
    "version": 3
   },
   "file_extension": ".py",
   "mimetype": "text/x-python",
   "name": "python",
   "nbconvert_exporter": "python",
   "pygments_lexer": "ipython3",
   "version": "3.10.5"
  }
 },
 "nbformat": 4,
 "nbformat_minor": 2
}
