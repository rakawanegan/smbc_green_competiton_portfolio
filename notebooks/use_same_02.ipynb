{
 "cells": [
  {
   "cell_type": "code",
   "execution_count": 1,
   "metadata": {},
   "outputs": [],
   "source": [
    "import numpy as np\n",
    "import pandas as pd\n",
    "import os\n",
    "import lightgbm as lgb\n",
    "from sklearn.model_selection import train_test_split, KFold\n",
    "import matplotlib.pyplot as plt\n",
    "import seaborn as sns\n",
    "from sklearn.metrics import f1_score\n",
    "from lib.preprocess import Preprocess, data_augmentation\n",
    "from sklearn.manifold import TSNE\n",
    "from sklearn.utils import compute_sample_weight\n",
    "# import shap"
   ]
  },
  {
   "cell_type": "code",
   "execution_count": 2,
   "metadata": {},
   "outputs": [],
   "source": [
    "SEED = 314\n",
    "datasrc = \"data/official/\"\n",
    "data = pd.read_csv(os.path.join(datasrc, \"train.csv\"), index_col=0)\n",
    "x_test = pd.read_csv(os.path.join(datasrc, \"test.csv\"), index_col=0)\n",
    "\n",
    "train, valid = train_test_split(data, test_size=0.2, random_state=42, stratify=data[\"health\"])"
   ]
  },
  {
   "cell_type": "code",
   "execution_count": 3,
   "metadata": {},
   "outputs": [],
   "source": [
    "x_train = train.drop(\"health\", axis=1)\n",
    "y_train = train[\"health\"]\n",
    "x_valid = valid.drop(\"health\", axis=1)\n",
    "y_valid = valid[\"health\"]"
   ]
  },
  {
   "cell_type": "code",
   "execution_count": 4,
   "metadata": {},
   "outputs": [],
   "source": [
    "ignore_columns = [\n",
    "    \"nta_name\",\n",
    "    \"boro_ct\",\n",
    "    \"spc_latin\",\n",
    "]\n",
    "# get object columns\n",
    "object_columns = [col for col in x_train.select_dtypes(include=[\"object\"]).columns.tolist() if col not in ignore_columns]\n",
    "config = {\n",
    "    \"object_columns\": object_columns,\n",
    "    \"is_target_encode\": False,\n",
    "}"
   ]
  },
  {
   "cell_type": "code",
   "execution_count": 5,
   "metadata": {},
   "outputs": [],
   "source": [
    "preprocess = Preprocess(config)\n",
    "\n",
    "x_train = pd.DataFrame(preprocess.fit_transform(x_train, y_train), columns=preprocess.get_feature_names_out(), index=x_train.index)\n",
    "x_valid = pd.DataFrame(preprocess.transform(x_valid), columns=preprocess.get_feature_names_out(), index=x_valid.index)\n",
    "x_test = pd.DataFrame(preprocess.transform(x_test), columns=preprocess.get_feature_names_out(), index=x_test.index)\n",
    "\n",
    "x_train.loc[:,\"num__tree_dbh_binedby5\"] = x_train[\"num__tree_dbh\"].map(lambda x: np.floor(x/5)*5)\n",
    "x_train.loc[:,\"num__tree_dbh_binedby10\"] = x_train[\"num__tree_dbh\"].map(lambda x: np.floor(x/10)*10)\n",
    "x_valid.loc[:,\"num__tree_dbh_binedby5\"] = x_valid[\"num__tree_dbh\"].map(lambda x: np.floor(x/5)*5)\n",
    "x_valid.loc[:,\"num__tree_dbh_binedby10\"] = x_valid[\"num__tree_dbh\"].map(lambda x: np.floor(x/10)*10)\n",
    "x_test.loc[:,\"num__tree_dbh_binedby5\"] = x_test[\"num__tree_dbh\"].map(lambda x: np.floor(x/5)*5)\n",
    "x_test.loc[:,\"num__tree_dbh_binedby10\"] = x_test[\"num__tree_dbh\"].map(lambda x: np.floor(x/10)*10)"
   ]
  },
  {
   "cell_type": "code",
   "execution_count": 6,
   "metadata": {},
   "outputs": [],
   "source": [
    "x_train = x_train.fillna(-10)\n",
    "x_valid = x_valid.fillna(-10)\n",
    "x_test = x_test.fillna(-10)"
   ]
  },
  {
   "cell_type": "code",
   "execution_count": 7,
   "metadata": {},
   "outputs": [
    {
     "data": {
      "text/plain": [
       "1    12601\n",
       "0     2828\n",
       "2      558\n",
       "Name: health, dtype: int64"
      ]
     },
     "execution_count": 7,
     "metadata": {},
     "output_type": "execute_result"
    }
   ],
   "source": [
    "y_train.value_counts()"
   ]
  },
  {
   "cell_type": "code",
   "execution_count": 8,
   "metadata": {},
   "outputs": [
    {
     "data": {
      "text/plain": [
       "(2828, 12601, 558)"
      ]
     },
     "execution_count": 8,
     "metadata": {},
     "output_type": "execute_result"
    }
   ],
   "source": [
    "x_train_0 = x_train.loc[y_train==0,:]\n",
    "x_train_1 = x_train.loc[y_train==1,:]\n",
    "x_train_2 = x_train.loc[y_train==2,:]\n",
    "len(x_train_0), len(x_train_1), len(x_train_2)"
   ]
  },
  {
   "cell_type": "code",
   "execution_count": 9,
   "metadata": {},
   "outputs": [],
   "source": [
    "train_0s = train_test_split(x_train_0, test_size=0.5, random_state=SEED)\n",
    "folds = KFold(n_splits=10, shuffle=True, random_state=SEED, )"
   ]
  },
  {
   "cell_type": "code",
   "execution_count": 10,
   "metadata": {},
   "outputs": [],
   "source": [
    "def mean_f1score(preds:np.ndarray,eval_data: lgb.Dataset):\n",
    "    y_true = eval_data.get_label()\n",
    "    weight = eval_data.get_weight()\n",
    "    preds = preds.reshape(len(np.unique(y_true)), -1)\n",
    "    preds = preds.argmax(axis = 0)\n",
    "    f1 = f1_score(y_true,preds,average='macro',sample_weight=weight)\n",
    "    return 'f1',f1,True\n",
    "\n",
    "\n",
    "def get_each_fold_model(index_1):\n",
    "    valid_probs_list = list()\n",
    "    for x_train_0_ in train_0s:\n",
    "        x_fold_train = pd.concat([x_train_0_, x_train_1.iloc[index_1,:], x_train_2])\n",
    "        y_fold_train = pd.concat([y_train.loc[x_train_0_.index], y_train.loc[x_train_1.iloc[index_1,:].index], y_train.loc[x_train_2.index]])\n",
    "        x_fold_train, y_fold_train = data_augmentation(x_fold_train, y_fold_train)\n",
    "        object_columns = x_fold_train.select_dtypes(include=[\"object\"]).columns.tolist()\n",
    "        lgb_train = lgb.Dataset(x_fold_train, y_fold_train, categorical_feature=object_columns)\n",
    "        params = {\n",
    "            'objective': 'multiclass',\n",
    "            'metric': None,\n",
    "            'num_class': 3,\n",
    "            'seed': 42,\n",
    "            'num_threads': -1,\n",
    "            \"force_col_wise\": True,\n",
    "        }\n",
    "        model = lgb.train(\n",
    "            params,\n",
    "            lgb_train,\n",
    "            valid_sets=[lgb_train],\n",
    "            valid_names=['train'],\n",
    "            num_boost_round=1000,\n",
    "            # early_stopping_rounds=100,\n",
    "            # verbose_eval=100,\n",
    "            feval=mean_f1score,\n",
    "            callbacks=[\n",
    "                lgb.early_stopping(stopping_rounds=100, verbose=False),\n",
    "                # lgb.reset_parameter(learning_rate=lambda current_round: 0.01 * 0.995 ** current_round),\n",
    "            ]\n",
    "        )\n",
    "        valid_probs = model.predict(x_valid)\n",
    "        pred_valid = pd.DataFrame(valid_probs.argmax(axis=1), columns=[\"health\"], index=x_valid.index)\n",
    "        # print(pred_valid.value_counts()/len(pred_valid))\n",
    "        # print(\"f1 score\",f1_score(y_valid, pred_valid, average=\"macro\"))\n",
    "        # print(\"-\"*50)\n",
    "        valid_probs_list.append(valid_probs)\n",
    "    return valid_probs_list"
   ]
  },
  {
   "cell_type": "code",
   "execution_count": 11,
   "metadata": {},
   "outputs": [
    {
     "name": "stdout",
     "output_type": "stream",
     "text": [
      "fold 0\n",
      "Before SMOTE:  3233\n",
      "After SMOTE:  4242\n",
      "[LightGBM] [Info] Total Bins 6445\n",
      "[LightGBM] [Info] Number of data points in the train set: 4242, number of used features: 37\n",
      "[LightGBM] [Info] Start training from score -1.098612\n",
      "[LightGBM] [Info] Start training from score -1.098612\n",
      "[LightGBM] [Info] Start training from score -1.098612\n"
     ]
    },
    {
     "name": "stderr",
     "output_type": "stream",
     "text": [
      "/home/nakagawa/.local/lib/python3.10/site-packages/imblearn/over_sampling/_smote/base.py:345: FutureWarning: The parameter `n_jobs` has been deprecated in 0.10 and will be removed in 0.12. You can pass an nearest neighbors estimator where `n_jobs` is already set instead.\n",
      "  warnings.warn(\n",
      "/home/nakagawa/.local/lib/python3.10/site-packages/lightgbm/basic.py:2065: UserWarning: Using categorical_feature in Dataset.\n",
      "  _log_warning('Using categorical_feature in Dataset.')\n"
     ]
    },
    {
     "name": "stdout",
     "output_type": "stream",
     "text": [
      "Before SMOTE:  3233\n",
      "After SMOTE:  4242\n",
      "[LightGBM] [Info] Total Bins 6457\n",
      "[LightGBM] [Info] Number of data points in the train set: 4242, number of used features: 37\n",
      "[LightGBM] [Info] Start training from score -1.098612\n",
      "[LightGBM] [Info] Start training from score -1.098612\n",
      "[LightGBM] [Info] Start training from score -1.098612\n"
     ]
    },
    {
     "name": "stderr",
     "output_type": "stream",
     "text": [
      "/home/nakagawa/.local/lib/python3.10/site-packages/imblearn/over_sampling/_smote/base.py:345: FutureWarning: The parameter `n_jobs` has been deprecated in 0.10 and will be removed in 0.12. You can pass an nearest neighbors estimator where `n_jobs` is already set instead.\n",
      "  warnings.warn(\n",
      "/home/nakagawa/.local/lib/python3.10/site-packages/lightgbm/basic.py:2065: UserWarning: Using categorical_feature in Dataset.\n",
      "  _log_warning('Using categorical_feature in Dataset.')\n"
     ]
    },
    {
     "name": "stdout",
     "output_type": "stream",
     "text": [
      "fold 1\n",
      "Before SMOTE:  3232\n",
      "After SMOTE:  4242\n",
      "[LightGBM] [Info] Total Bins 6459\n",
      "[LightGBM] [Info] Number of data points in the train set: 4242, number of used features: 37\n",
      "[LightGBM] [Info] Start training from score -1.098612\n",
      "[LightGBM] [Info] Start training from score -1.098612\n",
      "[LightGBM] [Info] Start training from score -1.098612\n"
     ]
    },
    {
     "name": "stderr",
     "output_type": "stream",
     "text": [
      "/home/nakagawa/.local/lib/python3.10/site-packages/imblearn/over_sampling/_smote/base.py:345: FutureWarning: The parameter `n_jobs` has been deprecated in 0.10 and will be removed in 0.12. You can pass an nearest neighbors estimator where `n_jobs` is already set instead.\n",
      "  warnings.warn(\n",
      "/home/nakagawa/.local/lib/python3.10/site-packages/lightgbm/basic.py:2065: UserWarning: Using categorical_feature in Dataset.\n",
      "  _log_warning('Using categorical_feature in Dataset.')\n"
     ]
    },
    {
     "name": "stdout",
     "output_type": "stream",
     "text": [
      "Before SMOTE:  3232\n",
      "After SMOTE:  4242\n",
      "[LightGBM] [Info] Total Bins 6466\n",
      "[LightGBM] [Info] Number of data points in the train set: 4242, number of used features: 37\n",
      "[LightGBM] [Info] Start training from score -1.098612\n",
      "[LightGBM] [Info] Start training from score -1.098612\n",
      "[LightGBM] [Info] Start training from score -1.098612\n"
     ]
    },
    {
     "name": "stderr",
     "output_type": "stream",
     "text": [
      "/home/nakagawa/.local/lib/python3.10/site-packages/imblearn/over_sampling/_smote/base.py:345: FutureWarning: The parameter `n_jobs` has been deprecated in 0.10 and will be removed in 0.12. You can pass an nearest neighbors estimator where `n_jobs` is already set instead.\n",
      "  warnings.warn(\n",
      "/home/nakagawa/.local/lib/python3.10/site-packages/lightgbm/basic.py:2065: UserWarning: Using categorical_feature in Dataset.\n",
      "  _log_warning('Using categorical_feature in Dataset.')\n"
     ]
    },
    {
     "name": "stdout",
     "output_type": "stream",
     "text": [
      "fold 2\n",
      "Before SMOTE:  3232\n",
      "After SMOTE:  4242\n",
      "[LightGBM] [Info] Total Bins 6464\n",
      "[LightGBM] [Info] Number of data points in the train set: 4242, number of used features: 37\n",
      "[LightGBM] [Info] Start training from score -1.098612\n",
      "[LightGBM] [Info] Start training from score -1.098612\n",
      "[LightGBM] [Info] Start training from score -1.098612\n"
     ]
    },
    {
     "name": "stderr",
     "output_type": "stream",
     "text": [
      "/home/nakagawa/.local/lib/python3.10/site-packages/imblearn/over_sampling/_smote/base.py:345: FutureWarning: The parameter `n_jobs` has been deprecated in 0.10 and will be removed in 0.12. You can pass an nearest neighbors estimator where `n_jobs` is already set instead.\n",
      "  warnings.warn(\n",
      "/home/nakagawa/.local/lib/python3.10/site-packages/lightgbm/basic.py:2065: UserWarning: Using categorical_feature in Dataset.\n",
      "  _log_warning('Using categorical_feature in Dataset.')\n"
     ]
    },
    {
     "name": "stdout",
     "output_type": "stream",
     "text": [
      "Before SMOTE:  3232\n",
      "After SMOTE:  4242\n",
      "[LightGBM] [Info] Total Bins 6465\n",
      "[LightGBM] [Info] Number of data points in the train set: 4242, number of used features: 37\n",
      "[LightGBM] [Info] Start training from score -1.098612\n",
      "[LightGBM] [Info] Start training from score -1.098612\n",
      "[LightGBM] [Info] Start training from score -1.098612\n"
     ]
    },
    {
     "name": "stderr",
     "output_type": "stream",
     "text": [
      "/home/nakagawa/.local/lib/python3.10/site-packages/imblearn/over_sampling/_smote/base.py:345: FutureWarning: The parameter `n_jobs` has been deprecated in 0.10 and will be removed in 0.12. You can pass an nearest neighbors estimator where `n_jobs` is already set instead.\n",
      "  warnings.warn(\n",
      "/home/nakagawa/.local/lib/python3.10/site-packages/lightgbm/basic.py:2065: UserWarning: Using categorical_feature in Dataset.\n",
      "  _log_warning('Using categorical_feature in Dataset.')\n"
     ]
    },
    {
     "name": "stdout",
     "output_type": "stream",
     "text": [
      "fold 3\n",
      "Before SMOTE:  3232\n",
      "After SMOTE:  4242\n",
      "[LightGBM] [Info] Total Bins 6454\n",
      "[LightGBM] [Info] Number of data points in the train set: 4242, number of used features: 37\n",
      "[LightGBM] [Info] Start training from score -1.098612\n",
      "[LightGBM] [Info] Start training from score -1.098612\n",
      "[LightGBM] [Info] Start training from score -1.098612\n"
     ]
    },
    {
     "name": "stderr",
     "output_type": "stream",
     "text": [
      "/home/nakagawa/.local/lib/python3.10/site-packages/imblearn/over_sampling/_smote/base.py:345: FutureWarning: The parameter `n_jobs` has been deprecated in 0.10 and will be removed in 0.12. You can pass an nearest neighbors estimator where `n_jobs` is already set instead.\n",
      "  warnings.warn(\n",
      "/home/nakagawa/.local/lib/python3.10/site-packages/lightgbm/basic.py:2065: UserWarning: Using categorical_feature in Dataset.\n",
      "  _log_warning('Using categorical_feature in Dataset.')\n"
     ]
    },
    {
     "name": "stdout",
     "output_type": "stream",
     "text": [
      "Before SMOTE:  3232\n",
      "After SMOTE:  4242\n",
      "[LightGBM] [Info] Total Bins 6436\n",
      "[LightGBM] [Info] Number of data points in the train set: 4242, number of used features: 37\n",
      "[LightGBM] [Info] Start training from score -1.098612\n",
      "[LightGBM] [Info] Start training from score -1.098612\n",
      "[LightGBM] [Info] Start training from score -1.098612\n"
     ]
    },
    {
     "name": "stderr",
     "output_type": "stream",
     "text": [
      "/home/nakagawa/.local/lib/python3.10/site-packages/imblearn/over_sampling/_smote/base.py:345: FutureWarning: The parameter `n_jobs` has been deprecated in 0.10 and will be removed in 0.12. You can pass an nearest neighbors estimator where `n_jobs` is already set instead.\n",
      "  warnings.warn(\n",
      "/home/nakagawa/.local/lib/python3.10/site-packages/lightgbm/basic.py:2065: UserWarning: Using categorical_feature in Dataset.\n",
      "  _log_warning('Using categorical_feature in Dataset.')\n"
     ]
    },
    {
     "name": "stdout",
     "output_type": "stream",
     "text": [
      "fold 4\n",
      "Before SMOTE:  3232\n",
      "After SMOTE:  4242\n",
      "[LightGBM] [Info] Total Bins 6444\n",
      "[LightGBM] [Info] Number of data points in the train set: 4242, number of used features: 37\n",
      "[LightGBM] [Info] Start training from score -1.098612\n",
      "[LightGBM] [Info] Start training from score -1.098612\n",
      "[LightGBM] [Info] Start training from score -1.098612\n"
     ]
    },
    {
     "name": "stderr",
     "output_type": "stream",
     "text": [
      "/home/nakagawa/.local/lib/python3.10/site-packages/imblearn/over_sampling/_smote/base.py:345: FutureWarning: The parameter `n_jobs` has been deprecated in 0.10 and will be removed in 0.12. You can pass an nearest neighbors estimator where `n_jobs` is already set instead.\n",
      "  warnings.warn(\n",
      "/home/nakagawa/.local/lib/python3.10/site-packages/lightgbm/basic.py:2065: UserWarning: Using categorical_feature in Dataset.\n",
      "  _log_warning('Using categorical_feature in Dataset.')\n"
     ]
    },
    {
     "name": "stdout",
     "output_type": "stream",
     "text": [
      "Before SMOTE:  3232\n",
      "After SMOTE:  4242\n",
      "[LightGBM] [Info] Total Bins 6457\n",
      "[LightGBM] [Info] Number of data points in the train set: 4242, number of used features: 37\n",
      "[LightGBM] [Info] Start training from score -1.098612\n",
      "[LightGBM] [Info] Start training from score -1.098612\n",
      "[LightGBM] [Info] Start training from score -1.098612\n"
     ]
    },
    {
     "name": "stderr",
     "output_type": "stream",
     "text": [
      "/home/nakagawa/.local/lib/python3.10/site-packages/imblearn/over_sampling/_smote/base.py:345: FutureWarning: The parameter `n_jobs` has been deprecated in 0.10 and will be removed in 0.12. You can pass an nearest neighbors estimator where `n_jobs` is already set instead.\n",
      "  warnings.warn(\n",
      "/home/nakagawa/.local/lib/python3.10/site-packages/lightgbm/basic.py:2065: UserWarning: Using categorical_feature in Dataset.\n",
      "  _log_warning('Using categorical_feature in Dataset.')\n"
     ]
    },
    {
     "name": "stdout",
     "output_type": "stream",
     "text": [
      "fold 5\n",
      "Before SMOTE:  3232\n",
      "After SMOTE:  4242\n",
      "[LightGBM] [Info] Total Bins 6449\n",
      "[LightGBM] [Info] Number of data points in the train set: 4242, number of used features: 37\n",
      "[LightGBM] [Info] Start training from score -1.098612\n",
      "[LightGBM] [Info] Start training from score -1.098612\n",
      "[LightGBM] [Info] Start training from score -1.098612\n"
     ]
    },
    {
     "name": "stderr",
     "output_type": "stream",
     "text": [
      "/home/nakagawa/.local/lib/python3.10/site-packages/imblearn/over_sampling/_smote/base.py:345: FutureWarning: The parameter `n_jobs` has been deprecated in 0.10 and will be removed in 0.12. You can pass an nearest neighbors estimator where `n_jobs` is already set instead.\n",
      "  warnings.warn(\n",
      "/home/nakagawa/.local/lib/python3.10/site-packages/lightgbm/basic.py:2065: UserWarning: Using categorical_feature in Dataset.\n",
      "  _log_warning('Using categorical_feature in Dataset.')\n"
     ]
    },
    {
     "name": "stdout",
     "output_type": "stream",
     "text": [
      "Before SMOTE:  3232\n",
      "After SMOTE:  4242\n",
      "[LightGBM] [Info] Total Bins 6461\n",
      "[LightGBM] [Info] Number of data points in the train set: 4242, number of used features: 37\n",
      "[LightGBM] [Info] Start training from score -1.098612\n",
      "[LightGBM] [Info] Start training from score -1.098612\n",
      "[LightGBM] [Info] Start training from score -1.098612\n"
     ]
    },
    {
     "name": "stderr",
     "output_type": "stream",
     "text": [
      "/home/nakagawa/.local/lib/python3.10/site-packages/imblearn/over_sampling/_smote/base.py:345: FutureWarning: The parameter `n_jobs` has been deprecated in 0.10 and will be removed in 0.12. You can pass an nearest neighbors estimator where `n_jobs` is already set instead.\n",
      "  warnings.warn(\n",
      "/home/nakagawa/.local/lib/python3.10/site-packages/lightgbm/basic.py:2065: UserWarning: Using categorical_feature in Dataset.\n",
      "  _log_warning('Using categorical_feature in Dataset.')\n"
     ]
    },
    {
     "name": "stdout",
     "output_type": "stream",
     "text": [
      "fold 6\n",
      "Before SMOTE:  3232\n",
      "After SMOTE:  4242\n",
      "[LightGBM] [Info] Total Bins 6464\n",
      "[LightGBM] [Info] Number of data points in the train set: 4242, number of used features: 37\n",
      "[LightGBM] [Info] Start training from score -1.098612\n",
      "[LightGBM] [Info] Start training from score -1.098612\n",
      "[LightGBM] [Info] Start training from score -1.098612\n"
     ]
    },
    {
     "name": "stderr",
     "output_type": "stream",
     "text": [
      "/home/nakagawa/.local/lib/python3.10/site-packages/imblearn/over_sampling/_smote/base.py:345: FutureWarning: The parameter `n_jobs` has been deprecated in 0.10 and will be removed in 0.12. You can pass an nearest neighbors estimator where `n_jobs` is already set instead.\n",
      "  warnings.warn(\n",
      "/home/nakagawa/.local/lib/python3.10/site-packages/lightgbm/basic.py:2065: UserWarning: Using categorical_feature in Dataset.\n",
      "  _log_warning('Using categorical_feature in Dataset.')\n"
     ]
    },
    {
     "name": "stdout",
     "output_type": "stream",
     "text": [
      "Before SMOTE:  3232\n",
      "After SMOTE:  4242\n",
      "[LightGBM] [Info] Total Bins 6473\n",
      "[LightGBM] [Info] Number of data points in the train set: 4242, number of used features: 37\n",
      "[LightGBM] [Info] Start training from score -1.098612\n",
      "[LightGBM] [Info] Start training from score -1.098612\n",
      "[LightGBM] [Info] Start training from score -1.098612\n"
     ]
    },
    {
     "name": "stderr",
     "output_type": "stream",
     "text": [
      "/home/nakagawa/.local/lib/python3.10/site-packages/imblearn/over_sampling/_smote/base.py:345: FutureWarning: The parameter `n_jobs` has been deprecated in 0.10 and will be removed in 0.12. You can pass an nearest neighbors estimator where `n_jobs` is already set instead.\n",
      "  warnings.warn(\n",
      "/home/nakagawa/.local/lib/python3.10/site-packages/lightgbm/basic.py:2065: UserWarning: Using categorical_feature in Dataset.\n",
      "  _log_warning('Using categorical_feature in Dataset.')\n"
     ]
    },
    {
     "name": "stdout",
     "output_type": "stream",
     "text": [
      "fold 7\n",
      "Before SMOTE:  3232\n",
      "After SMOTE:  4242\n",
      "[LightGBM] [Info] Total Bins 6424\n",
      "[LightGBM] [Info] Number of data points in the train set: 4242, number of used features: 37\n",
      "[LightGBM] [Info] Start training from score -1.098612\n",
      "[LightGBM] [Info] Start training from score -1.098612\n",
      "[LightGBM] [Info] Start training from score -1.098612\n"
     ]
    },
    {
     "name": "stderr",
     "output_type": "stream",
     "text": [
      "/home/nakagawa/.local/lib/python3.10/site-packages/imblearn/over_sampling/_smote/base.py:345: FutureWarning: The parameter `n_jobs` has been deprecated in 0.10 and will be removed in 0.12. You can pass an nearest neighbors estimator where `n_jobs` is already set instead.\n",
      "  warnings.warn(\n",
      "/home/nakagawa/.local/lib/python3.10/site-packages/lightgbm/basic.py:2065: UserWarning: Using categorical_feature in Dataset.\n",
      "  _log_warning('Using categorical_feature in Dataset.')\n"
     ]
    },
    {
     "name": "stdout",
     "output_type": "stream",
     "text": [
      "Before SMOTE:  3232\n",
      "After SMOTE:  4242\n",
      "[LightGBM] [Info] Total Bins 6412\n",
      "[LightGBM] [Info] Number of data points in the train set: 4242, number of used features: 37\n",
      "[LightGBM] [Info] Start training from score -1.098612\n",
      "[LightGBM] [Info] Start training from score -1.098612\n",
      "[LightGBM] [Info] Start training from score -1.098612\n"
     ]
    },
    {
     "name": "stderr",
     "output_type": "stream",
     "text": [
      "/home/nakagawa/.local/lib/python3.10/site-packages/imblearn/over_sampling/_smote/base.py:345: FutureWarning: The parameter `n_jobs` has been deprecated in 0.10 and will be removed in 0.12. You can pass an nearest neighbors estimator where `n_jobs` is already set instead.\n",
      "  warnings.warn(\n",
      "/home/nakagawa/.local/lib/python3.10/site-packages/lightgbm/basic.py:2065: UserWarning: Using categorical_feature in Dataset.\n",
      "  _log_warning('Using categorical_feature in Dataset.')\n"
     ]
    },
    {
     "name": "stdout",
     "output_type": "stream",
     "text": [
      "fold 8\n",
      "Before SMOTE:  3232\n",
      "After SMOTE:  4242\n",
      "[LightGBM] [Info] Total Bins 6452\n",
      "[LightGBM] [Info] Number of data points in the train set: 4242, number of used features: 37\n",
      "[LightGBM] [Info] Start training from score -1.098612\n",
      "[LightGBM] [Info] Start training from score -1.098612\n",
      "[LightGBM] [Info] Start training from score -1.098612\n"
     ]
    },
    {
     "name": "stderr",
     "output_type": "stream",
     "text": [
      "/home/nakagawa/.local/lib/python3.10/site-packages/imblearn/over_sampling/_smote/base.py:345: FutureWarning: The parameter `n_jobs` has been deprecated in 0.10 and will be removed in 0.12. You can pass an nearest neighbors estimator where `n_jobs` is already set instead.\n",
      "  warnings.warn(\n",
      "/home/nakagawa/.local/lib/python3.10/site-packages/lightgbm/basic.py:2065: UserWarning: Using categorical_feature in Dataset.\n",
      "  _log_warning('Using categorical_feature in Dataset.')\n"
     ]
    },
    {
     "name": "stdout",
     "output_type": "stream",
     "text": [
      "Before SMOTE:  3232\n",
      "After SMOTE:  4242\n",
      "[LightGBM] [Info] Total Bins 6457\n",
      "[LightGBM] [Info] Number of data points in the train set: 4242, number of used features: 37\n",
      "[LightGBM] [Info] Start training from score -1.098612\n",
      "[LightGBM] [Info] Start training from score -1.098612\n",
      "[LightGBM] [Info] Start training from score -1.098612\n"
     ]
    },
    {
     "name": "stderr",
     "output_type": "stream",
     "text": [
      "/home/nakagawa/.local/lib/python3.10/site-packages/imblearn/over_sampling/_smote/base.py:345: FutureWarning: The parameter `n_jobs` has been deprecated in 0.10 and will be removed in 0.12. You can pass an nearest neighbors estimator where `n_jobs` is already set instead.\n",
      "  warnings.warn(\n",
      "/home/nakagawa/.local/lib/python3.10/site-packages/lightgbm/basic.py:2065: UserWarning: Using categorical_feature in Dataset.\n",
      "  _log_warning('Using categorical_feature in Dataset.')\n"
     ]
    },
    {
     "name": "stdout",
     "output_type": "stream",
     "text": [
      "fold 9\n",
      "Before SMOTE:  3232\n",
      "After SMOTE:  4242\n",
      "[LightGBM] [Info] Total Bins 6443\n",
      "[LightGBM] [Info] Number of data points in the train set: 4242, number of used features: 37\n",
      "[LightGBM] [Info] Start training from score -1.098612\n",
      "[LightGBM] [Info] Start training from score -1.098612\n",
      "[LightGBM] [Info] Start training from score -1.098612\n"
     ]
    },
    {
     "name": "stderr",
     "output_type": "stream",
     "text": [
      "/home/nakagawa/.local/lib/python3.10/site-packages/imblearn/over_sampling/_smote/base.py:345: FutureWarning: The parameter `n_jobs` has been deprecated in 0.10 and will be removed in 0.12. You can pass an nearest neighbors estimator where `n_jobs` is already set instead.\n",
      "  warnings.warn(\n",
      "/home/nakagawa/.local/lib/python3.10/site-packages/lightgbm/basic.py:2065: UserWarning: Using categorical_feature in Dataset.\n",
      "  _log_warning('Using categorical_feature in Dataset.')\n"
     ]
    },
    {
     "name": "stdout",
     "output_type": "stream",
     "text": [
      "Before SMOTE:  3232\n",
      "After SMOTE:  4242\n",
      "[LightGBM] [Info] Total Bins 6470\n",
      "[LightGBM] [Info] Number of data points in the train set: 4242, number of used features: 37\n",
      "[LightGBM] [Info] Start training from score -1.098612\n",
      "[LightGBM] [Info] Start training from score -1.098612\n",
      "[LightGBM] [Info] Start training from score -1.098612\n"
     ]
    },
    {
     "name": "stderr",
     "output_type": "stream",
     "text": [
      "/home/nakagawa/.local/lib/python3.10/site-packages/imblearn/over_sampling/_smote/base.py:345: FutureWarning: The parameter `n_jobs` has been deprecated in 0.10 and will be removed in 0.12. You can pass an nearest neighbors estimator where `n_jobs` is already set instead.\n",
      "  warnings.warn(\n",
      "/home/nakagawa/.local/lib/python3.10/site-packages/lightgbm/basic.py:2065: UserWarning: Using categorical_feature in Dataset.\n",
      "  _log_warning('Using categorical_feature in Dataset.')\n"
     ]
    }
   ],
   "source": [
    "models = list()\n",
    "valid_probs_list = list()\n",
    "pred_valid_list = list()\n",
    "for i,(_, train_index) in enumerate(folds.split(x_train_1)):\n",
    "    print(f\"fold {i}\")\n",
    "    valid_probs0, valid_probs1 = get_each_fold_model(train_index)\n",
    "    pred_valid0 = pd.DataFrame(valid_probs0.argmax(axis=1), columns=[f\"fold{i}_health\"], index=x_valid.index)\n",
    "    pred_valid1 = pd.DataFrame(valid_probs1.argmax(axis=1), columns=[f\"fold{i}_health\"], index=x_valid.index)\n",
    "    valid_probs0 = pd.DataFrame(valid_probs0, columns=[f\"fold{i}_class0\", f\"fold{i}_class1\", f\"fold{i}_class2\"], index=x_valid.index)\n",
    "    valid_probs1 = pd.DataFrame(valid_probs1, columns=[f\"fold{i}_class0\", f\"fold{i}_class1\", f\"fold{i}_class2\"], index=x_valid.index)\n",
    "    # valid_probs_list.append(valid_probs0.copy())\n",
    "    # valid_probs_list.append(valid_probs1.copy())\n",
    "    pred_valid_list.append(pred_valid0.copy())\n",
    "    pred_valid_list.append(pred_valid1.copy())\n",
    "    # models.append(model)\n",
    "    # models.append(model)"
   ]
  },
  {
   "cell_type": "code",
   "execution_count": 12,
   "metadata": {},
   "outputs": [
    {
     "data": {
      "text/plain": [
       "0    0.556668\n",
       "1    0.375281\n",
       "2    0.068051\n",
       "dtype: float64"
      ]
     },
     "execution_count": 12,
     "metadata": {},
     "output_type": "execute_result"
    }
   ],
   "source": [
    "# folds_valid_probs = pd.concat(valid_probs_list, axis=1)\n",
    "folds_valid_preds = pd.concat(pred_valid_list, axis=1)\n",
    "folds_predict = folds_valid_preds.apply(lambda x: x.value_counts()/len(x), axis=1).idxmax(axis=1)\n",
    "folds_predict.value_counts()/len(folds_predict)"
   ]
  },
  {
   "cell_type": "code",
   "execution_count": 13,
   "metadata": {},
   "outputs": [
    {
     "data": {
      "text/plain": [
       "0.30436063123340756"
      ]
     },
     "execution_count": 13,
     "metadata": {},
     "output_type": "execute_result"
    }
   ],
   "source": [
    "f1_score(y_valid, folds_predict, average=\"macro\")"
   ]
  }
 ],
 "metadata": {
  "kernelspec": {
   "display_name": "Python 3",
   "language": "python",
   "name": "python3"
  },
  "language_info": {
   "codemirror_mode": {
    "name": "ipython",
    "version": 3
   },
   "file_extension": ".py",
   "mimetype": "text/x-python",
   "name": "python",
   "nbconvert_exporter": "python",
   "pygments_lexer": "ipython3",
   "version": "3.10.12"
  },
  "orig_nbformat": 4
 },
 "nbformat": 4,
 "nbformat_minor": 2
}
