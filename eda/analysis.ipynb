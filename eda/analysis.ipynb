{
 "cells": [
  {
   "cell_type": "code",
   "execution_count": 1,
   "metadata": {},
   "outputs": [],
   "source": [
    "import pandas as pd"
   ]
  },
  {
   "cell_type": "code",
   "execution_count": 2,
   "metadata": {},
   "outputs": [],
   "source": [
    "train = pd.read_csv('data/official/train.csv', index_col=0)\n",
    "x_test = pd.read_csv('data/official/test.csv', index_col=0)"
   ]
  },
  {
   "cell_type": "code",
   "execution_count": 3,
   "metadata": {},
   "outputs": [
    {
     "data": {
      "text/plain": [
       "(19984, 19702)"
      ]
     },
     "execution_count": 3,
     "metadata": {},
     "output_type": "execute_result"
    }
   ],
   "source": [
    "len(train), len(x_test)"
   ]
  },
  {
   "cell_type": "code",
   "execution_count": 4,
   "metadata": {},
   "outputs": [
    {
     "data": {
      "text/html": [
       "<div>\n",
       "<style scoped>\n",
       "    .dataframe tbody tr th:only-of-type {\n",
       "        vertical-align: middle;\n",
       "    }\n",
       "\n",
       "    .dataframe tbody tr th {\n",
       "        vertical-align: top;\n",
       "    }\n",
       "\n",
       "    .dataframe thead th {\n",
       "        text-align: right;\n",
       "    }\n",
       "</style>\n",
       "<table border=\"1\" class=\"dataframe\">\n",
       "  <thead>\n",
       "    <tr style=\"text-align: right;\">\n",
       "      <th></th>\n",
       "      <th>tree_dbh</th>\n",
       "      <th>health</th>\n",
       "      <th>borocode</th>\n",
       "      <th>boro_ct</th>\n",
       "      <th>cb_num</th>\n",
       "      <th>st_senate</th>\n",
       "      <th>st_assem</th>\n",
       "      <th>cncldist</th>\n",
       "    </tr>\n",
       "  </thead>\n",
       "  <tbody>\n",
       "    <tr>\n",
       "      <th>count</th>\n",
       "      <td>12243.000000</td>\n",
       "      <td>12243.000000</td>\n",
       "      <td>12243.000000</td>\n",
       "      <td>1.224300e+04</td>\n",
       "      <td>12243.000000</td>\n",
       "      <td>12243.000000</td>\n",
       "      <td>12243.000000</td>\n",
       "      <td>12243.000000</td>\n",
       "    </tr>\n",
       "    <tr>\n",
       "      <th>mean</th>\n",
       "      <td>9.550927</td>\n",
       "      <td>0.870130</td>\n",
       "      <td>3.383566</td>\n",
       "      <td>3.428115e+06</td>\n",
       "      <td>345.414359</td>\n",
       "      <td>21.186719</td>\n",
       "      <td>52.140243</td>\n",
       "      <td>30.807645</td>\n",
       "    </tr>\n",
       "    <tr>\n",
       "      <th>std</th>\n",
       "      <td>7.111644</td>\n",
       "      <td>0.428092</td>\n",
       "      <td>1.234238</td>\n",
       "      <td>1.240936e+06</td>\n",
       "      <td>122.408877</td>\n",
       "      <td>7.110358</td>\n",
       "      <td>18.366462</td>\n",
       "      <td>14.865975</td>\n",
       "    </tr>\n",
       "    <tr>\n",
       "      <th>min</th>\n",
       "      <td>1.000000</td>\n",
       "      <td>0.000000</td>\n",
       "      <td>1.000000</td>\n",
       "      <td>1.000202e+06</td>\n",
       "      <td>101.000000</td>\n",
       "      <td>10.000000</td>\n",
       "      <td>23.000000</td>\n",
       "      <td>1.000000</td>\n",
       "    </tr>\n",
       "    <tr>\n",
       "      <th>25%</th>\n",
       "      <td>4.000000</td>\n",
       "      <td>1.000000</td>\n",
       "      <td>3.000000</td>\n",
       "      <td>3.006500e+06</td>\n",
       "      <td>302.000000</td>\n",
       "      <td>15.000000</td>\n",
       "      <td>33.000000</td>\n",
       "      <td>19.000000</td>\n",
       "    </tr>\n",
       "    <tr>\n",
       "      <th>50%</th>\n",
       "      <td>7.000000</td>\n",
       "      <td>1.000000</td>\n",
       "      <td>4.000000</td>\n",
       "      <td>4.012301e+06</td>\n",
       "      <td>402.000000</td>\n",
       "      <td>23.000000</td>\n",
       "      <td>56.000000</td>\n",
       "      <td>31.000000</td>\n",
       "    </tr>\n",
       "    <tr>\n",
       "      <th>75%</th>\n",
       "      <td>14.000000</td>\n",
       "      <td>1.000000</td>\n",
       "      <td>4.000000</td>\n",
       "      <td>4.129104e+06</td>\n",
       "      <td>413.000000</td>\n",
       "      <td>25.000000</td>\n",
       "      <td>64.000000</td>\n",
       "      <td>46.000000</td>\n",
       "    </tr>\n",
       "    <tr>\n",
       "      <th>max</th>\n",
       "      <td>41.000000</td>\n",
       "      <td>2.000000</td>\n",
       "      <td>5.000000</td>\n",
       "      <td>5.031902e+06</td>\n",
       "      <td>503.000000</td>\n",
       "      <td>36.000000</td>\n",
       "      <td>87.000000</td>\n",
       "      <td>51.000000</td>\n",
       "    </tr>\n",
       "  </tbody>\n",
       "</table>\n",
       "</div>"
      ],
      "text/plain": [
       "           tree_dbh        health      borocode       boro_ct        cb_num  \\\n",
       "count  12243.000000  12243.000000  12243.000000  1.224300e+04  12243.000000   \n",
       "mean       9.550927      0.870130      3.383566  3.428115e+06    345.414359   \n",
       "std        7.111644      0.428092      1.234238  1.240936e+06    122.408877   \n",
       "min        1.000000      0.000000      1.000000  1.000202e+06    101.000000   \n",
       "25%        4.000000      1.000000      3.000000  3.006500e+06    302.000000   \n",
       "50%        7.000000      1.000000      4.000000  4.012301e+06    402.000000   \n",
       "75%       14.000000      1.000000      4.000000  4.129104e+06    413.000000   \n",
       "max       41.000000      2.000000      5.000000  5.031902e+06    503.000000   \n",
       "\n",
       "          st_senate      st_assem      cncldist  \n",
       "count  12243.000000  12243.000000  12243.000000  \n",
       "mean      21.186719     52.140243     30.807645  \n",
       "std        7.110358     18.366462     14.865975  \n",
       "min       10.000000     23.000000      1.000000  \n",
       "25%       15.000000     33.000000     19.000000  \n",
       "50%       23.000000     56.000000     31.000000  \n",
       "75%       25.000000     64.000000     46.000000  \n",
       "max       36.000000     87.000000     51.000000  "
      ]
     },
     "execution_count": 4,
     "metadata": {},
     "output_type": "execute_result"
    }
   ],
   "source": [
    "train.loc[train.problems.isna(),:].describe()"
   ]
  },
  {
   "cell_type": "code",
   "execution_count": 5,
   "metadata": {},
   "outputs": [
    {
     "data": {
      "text/html": [
       "<div>\n",
       "<style scoped>\n",
       "    .dataframe tbody tr th:only-of-type {\n",
       "        vertical-align: middle;\n",
       "    }\n",
       "\n",
       "    .dataframe tbody tr th {\n",
       "        vertical-align: top;\n",
       "    }\n",
       "\n",
       "    .dataframe thead th {\n",
       "        text-align: right;\n",
       "    }\n",
       "</style>\n",
       "<table border=\"1\" class=\"dataframe\">\n",
       "  <thead>\n",
       "    <tr style=\"text-align: right;\">\n",
       "      <th></th>\n",
       "      <th>created_at</th>\n",
       "      <th>tree_dbh</th>\n",
       "      <th>curb_loc</th>\n",
       "      <th>health</th>\n",
       "      <th>steward</th>\n",
       "      <th>guards</th>\n",
       "      <th>sidewalk</th>\n",
       "      <th>user_type</th>\n",
       "      <th>problems</th>\n",
       "      <th>spc_common</th>\n",
       "      <th>...</th>\n",
       "      <th>nta</th>\n",
       "      <th>nta_name</th>\n",
       "      <th>borocode</th>\n",
       "      <th>boro_ct</th>\n",
       "      <th>boroname</th>\n",
       "      <th>zip_city</th>\n",
       "      <th>cb_num</th>\n",
       "      <th>st_senate</th>\n",
       "      <th>st_assem</th>\n",
       "      <th>cncldist</th>\n",
       "    </tr>\n",
       "  </thead>\n",
       "  <tbody>\n",
       "    <tr>\n",
       "      <th>0</th>\n",
       "      <td>2015-06-29</td>\n",
       "      <td>14</td>\n",
       "      <td>OnCurb</td>\n",
       "      <td>1</td>\n",
       "      <td>NaN</td>\n",
       "      <td>NaN</td>\n",
       "      <td>Damage</td>\n",
       "      <td>Volunteer</td>\n",
       "      <td>NaN</td>\n",
       "      <td>English oak</td>\n",
       "      <td>...</td>\n",
       "      <td>QN45</td>\n",
       "      <td>Douglas Manor-Douglaston-Little Neck</td>\n",
       "      <td>4</td>\n",
       "      <td>4152901</td>\n",
       "      <td>Queens</td>\n",
       "      <td>Little Neck</td>\n",
       "      <td>411</td>\n",
       "      <td>11</td>\n",
       "      <td>25</td>\n",
       "      <td>23</td>\n",
       "    </tr>\n",
       "    <tr>\n",
       "      <th>1</th>\n",
       "      <td>2016-09-21</td>\n",
       "      <td>5</td>\n",
       "      <td>OnCurb</td>\n",
       "      <td>1</td>\n",
       "      <td>3or4</td>\n",
       "      <td>Helpful</td>\n",
       "      <td>NoDamage</td>\n",
       "      <td>Volunteer</td>\n",
       "      <td>NaN</td>\n",
       "      <td>crimson king maple</td>\n",
       "      <td>...</td>\n",
       "      <td>BX05</td>\n",
       "      <td>Bedford Park-Fordham North</td>\n",
       "      <td>2</td>\n",
       "      <td>2039901</td>\n",
       "      <td>Bronx</td>\n",
       "      <td>Bronx</td>\n",
       "      <td>207</td>\n",
       "      <td>33</td>\n",
       "      <td>78</td>\n",
       "      <td>15</td>\n",
       "    </tr>\n",
       "    <tr>\n",
       "      <th>2</th>\n",
       "      <td>2015-09-13</td>\n",
       "      <td>26</td>\n",
       "      <td>OnCurb</td>\n",
       "      <td>2</td>\n",
       "      <td>NaN</td>\n",
       "      <td>NaN</td>\n",
       "      <td>NoDamage</td>\n",
       "      <td>Volunteer</td>\n",
       "      <td>StonesBranchLights</td>\n",
       "      <td>English oak</td>\n",
       "      <td>...</td>\n",
       "      <td>SI01</td>\n",
       "      <td>Annadale-Huguenot-Prince's Bay-Eltingville</td>\n",
       "      <td>5</td>\n",
       "      <td>5017011</td>\n",
       "      <td>Staten Island</td>\n",
       "      <td>Staten Island</td>\n",
       "      <td>503</td>\n",
       "      <td>24</td>\n",
       "      <td>62</td>\n",
       "      <td>51</td>\n",
       "    </tr>\n",
       "    <tr>\n",
       "      <th>3</th>\n",
       "      <td>2016-05-09</td>\n",
       "      <td>15</td>\n",
       "      <td>OnCurb</td>\n",
       "      <td>0</td>\n",
       "      <td>NaN</td>\n",
       "      <td>NaN</td>\n",
       "      <td>Damage</td>\n",
       "      <td>NYC Parks Staff</td>\n",
       "      <td>NaN</td>\n",
       "      <td>honeylocust</td>\n",
       "      <td>...</td>\n",
       "      <td>SI11</td>\n",
       "      <td>Charleston-Richmond Valley-Tottenville</td>\n",
       "      <td>5</td>\n",
       "      <td>5024401</td>\n",
       "      <td>Staten Island</td>\n",
       "      <td>Staten Island</td>\n",
       "      <td>503</td>\n",
       "      <td>24</td>\n",
       "      <td>62</td>\n",
       "      <td>51</td>\n",
       "    </tr>\n",
       "    <tr>\n",
       "      <th>4</th>\n",
       "      <td>2016-06-24</td>\n",
       "      <td>23</td>\n",
       "      <td>OnCurb</td>\n",
       "      <td>1</td>\n",
       "      <td>NaN</td>\n",
       "      <td>NaN</td>\n",
       "      <td>NoDamage</td>\n",
       "      <td>Volunteer</td>\n",
       "      <td>Stones</td>\n",
       "      <td>London planetree</td>\n",
       "      <td>...</td>\n",
       "      <td>MN03</td>\n",
       "      <td>Central Harlem North-Polo Grounds</td>\n",
       "      <td>1</td>\n",
       "      <td>1022102</td>\n",
       "      <td>Manhattan</td>\n",
       "      <td>New York</td>\n",
       "      <td>110</td>\n",
       "      <td>30</td>\n",
       "      <td>70</td>\n",
       "      <td>9</td>\n",
       "    </tr>\n",
       "  </tbody>\n",
       "</table>\n",
       "<p>5 rows × 21 columns</p>\n",
       "</div>"
      ],
      "text/plain": [
       "   created_at  tree_dbh curb_loc  health steward   guards  sidewalk  \\\n",
       "0  2015-06-29        14   OnCurb       1     NaN      NaN    Damage   \n",
       "1  2016-09-21         5   OnCurb       1    3or4  Helpful  NoDamage   \n",
       "2  2015-09-13        26   OnCurb       2     NaN      NaN  NoDamage   \n",
       "3  2016-05-09        15   OnCurb       0     NaN      NaN    Damage   \n",
       "4  2016-06-24        23   OnCurb       1     NaN      NaN  NoDamage   \n",
       "\n",
       "         user_type            problems          spc_common  ...   nta  \\\n",
       "0        Volunteer                 NaN         English oak  ...  QN45   \n",
       "1        Volunteer                 NaN  crimson king maple  ...  BX05   \n",
       "2        Volunteer  StonesBranchLights         English oak  ...  SI01   \n",
       "3  NYC Parks Staff                 NaN         honeylocust  ...  SI11   \n",
       "4        Volunteer              Stones    London planetree  ...  MN03   \n",
       "\n",
       "                                     nta_name borocode  boro_ct  \\\n",
       "0        Douglas Manor-Douglaston-Little Neck        4  4152901   \n",
       "1                  Bedford Park-Fordham North        2  2039901   \n",
       "2  Annadale-Huguenot-Prince's Bay-Eltingville        5  5017011   \n",
       "3      Charleston-Richmond Valley-Tottenville        5  5024401   \n",
       "4           Central Harlem North-Polo Grounds        1  1022102   \n",
       "\n",
       "        boroname       zip_city cb_num  st_senate  st_assem  cncldist  \n",
       "0         Queens    Little Neck    411         11        25        23  \n",
       "1          Bronx          Bronx    207         33        78        15  \n",
       "2  Staten Island  Staten Island    503         24        62        51  \n",
       "3  Staten Island  Staten Island    503         24        62        51  \n",
       "4      Manhattan       New York    110         30        70         9  \n",
       "\n",
       "[5 rows x 21 columns]"
      ]
     },
     "execution_count": 5,
     "metadata": {},
     "output_type": "execute_result"
    }
   ],
   "source": [
    "train.head()"
   ]
  },
  {
   "cell_type": "code",
   "execution_count": 6,
   "metadata": {},
   "outputs": [
    {
     "data": {
      "text/plain": [
       "1    15751\n",
       "0     3535\n",
       "2      698\n",
       "Name: health, dtype: int64"
      ]
     },
     "execution_count": 6,
     "metadata": {},
     "output_type": "execute_result"
    }
   ],
   "source": [
    "train.loc[:,\"health\"].value_counts()\n",
    "# len(train)"
   ]
  },
  {
   "cell_type": "code",
   "execution_count": 7,
   "metadata": {},
   "outputs": [
    {
     "name": "stdout",
     "output_type": "stream",
     "text": [
      "2015-10-15    421\n",
      "2015-10-16    320\n",
      "2015-10-21    249\n",
      "2015-09-26    248\n",
      "2015-11-13    246\n",
      "             ... \n",
      "2016-04-25      4\n",
      "2016-09-25      3\n",
      "2016-01-01      3\n",
      "2016-04-21      2\n",
      "2016-03-07      2\n",
      "Name: created_at, Length: 447, dtype: int64\n",
      "5     1937\n",
      "4     1912\n",
      "6     1865\n",
      "3     1572\n",
      "7     1341\n",
      "16     777\n",
      "8      745\n",
      "15     741\n",
      "17     726\n",
      "14     680\n",
      "13     596\n",
      "18     552\n",
      "9      547\n",
      "12     513\n",
      "2      503\n",
      "11     500\n",
      "10     490\n",
      "19     404\n",
      "26     337\n",
      "20     335\n",
      "24     297\n",
      "25     294\n",
      "28     290\n",
      "22     289\n",
      "27     272\n",
      "23     271\n",
      "21     251\n",
      "29     233\n",
      "30     191\n",
      "31     145\n",
      "32     112\n",
      "33      69\n",
      "34      58\n",
      "1       37\n",
      "35      35\n",
      "36      19\n",
      "37      16\n",
      "38      12\n",
      "39       9\n",
      "40       7\n",
      "41       3\n",
      "42       1\n",
      "Name: tree_dbh, dtype: int64\n",
      "OnCurb            18777\n",
      "OffsetFromCurb     1207\n",
      "Name: curb_loc, dtype: int64\n",
      "1    15751\n",
      "0     3535\n",
      "2      698\n",
      "Name: health, dtype: int64\n",
      "1or2       3999\n",
      "3or4       1079\n",
      "4orMore      23\n",
      "Name: steward, dtype: int64\n",
      "Helpful    3650\n",
      "Unsure      737\n",
      "Harmful     654\n",
      "Name: guards, dtype: int64\n",
      "NoDamage    10689\n",
      "Damage       9295\n",
      "Name: sidewalk, dtype: int64\n",
      "Volunteer           11189\n",
      "TreesCount Staff     5795\n",
      "NYC Parks Staff      3000\n",
      "Name: user_type, dtype: int64\n",
      "Stones                                  2219\n",
      "BranchLights                            1036\n",
      "StonesBranchLights                       762\n",
      "BranchOther                              408\n",
      "RootOther                                333\n",
      "                                        ... \n",
      "StonesRootOtherTrunkOtherBranchOther       8\n",
      "StonesRootOtherWiresRopeBranchOther        5\n",
      "StonesMetalGratesTrunkOther                4\n",
      "TrunkLightsBranchLightsBranchOther         4\n",
      "WiresRopeTrunkLightsBranchLights           4\n",
      "Name: problems, Length: 73, dtype: int64\n",
      "London planetree       2237\n",
      "pin oak                2140\n",
      "cherry                 1689\n",
      "Japanese zelkova       1470\n",
      "littleleaf linden      1303\n",
      "                       ... \n",
      "Chinese chestnut          3\n",
      "pignut hickory            3\n",
      "Kentucky yellowwood       2\n",
      "pond cypress              1\n",
      "Himalayan cedar           1\n",
      "Name: spc_common, Length: 120, dtype: int64\n",
      "Platanus x acerifolia    2237\n",
      "Quercus palustris        2140\n",
      "Prunus                   1689\n",
      "Zelkova serrata          1470\n",
      "Tilia cordata            1303\n",
      "                         ... \n",
      "Castanea mollissima         3\n",
      "Carya glabra                3\n",
      "Cladrastis kentukea         2\n",
      "Taxodium ascendens          1\n",
      "Cedrus deodara              1\n",
      "Name: spc_latin, Length: 120, dtype: int64\n",
      "SI54    368\n",
      "SI11    359\n",
      "BK82    326\n",
      "BK45    306\n",
      "SI32    306\n",
      "       ... \n",
      "MN17      6\n",
      "MN21      5\n",
      "QN68      4\n",
      "BK27      2\n",
      "MN20      1\n",
      "Name: nta, Length: 187, dtype: int64\n",
      "Great Kills                                       368\n",
      "Charleston-Richmond Valley-Tottenville            359\n",
      "East New York                                     326\n",
      "Georgetown-Marine Park-Bergen Beach-Mill Basin    306\n",
      "Rossville-Woodrow                                 306\n",
      "                                                 ... \n",
      "Midtown-Midtown South                               6\n",
      "Gramercy                                            5\n",
      "Queensbridge-Ravenswood-Long Island City            4\n",
      "Bath Beach                                          2\n",
      "Murray Hill-Kips Bay                                1\n",
      "Name: nta_name, Length: 187, dtype: int64\n",
      "4    6572\n",
      "3    5119\n",
      "5    3735\n",
      "1    2288\n",
      "2    2270\n",
      "Name: borocode, dtype: int64\n",
      "5022600    204\n",
      "1031704    149\n",
      "5020804    126\n",
      "5005900    112\n",
      "5020801    103\n",
      "          ... \n",
      "4026300      1\n",
      "2041800      1\n",
      "2011900      1\n",
      "3039100      1\n",
      "3066200      1\n",
      "Name: boro_ct, Length: 1193, dtype: int64\n",
      "Queens           6572\n",
      "Brooklyn         5119\n",
      "Staten Island    3735\n",
      "Manhattan        2288\n",
      "Bronx            2270\n",
      "Name: boroname, dtype: int64\n",
      "Brooklyn               5119\n",
      "Staten Island          3735\n",
      "Bronx                  2270\n",
      "New York               2267\n",
      "Jamaica                 660\n",
      "Flushing                615\n",
      "Ridgewood               331\n",
      "Oakland Gardens         281\n",
      "Whitestone              252\n",
      "Springfield Gardens     248\n",
      "Forest Hills            248\n",
      "Far Rockaway            241\n",
      "Fresh Meadows           226\n",
      "Little Neck             222\n",
      "Bayside                 218\n",
      "Middle Village          213\n",
      "Rosedale                186\n",
      "Howard Beach            178\n",
      "Queens Village          173\n",
      "Astoria                 161\n",
      "South Ozone Park        145\n",
      "East Elmhurst           143\n",
      "Bellerose               141\n",
      "College Point           135\n",
      "Maspeth                 129\n",
      "Ozone Park              129\n",
      "Glen Oaks               128\n",
      "Long Island City        114\n",
      "Woodside                108\n",
      "Richmond Hill           104\n",
      "Elmhurst                104\n",
      "Cambria Heights          91\n",
      "Rockaway Park            84\n",
      "Kew Gardens              68\n",
      "Saint Albans             68\n",
      "Hollis                   65\n",
      "Corona                   63\n",
      "Arverne                  54\n",
      "South Richmond Hill      48\n",
      "Rego Park                48\n",
      "Jackson Heights          47\n",
      "Woodhaven                39\n",
      "Floral Park              33\n",
      "Sunnyside                31\n",
      "Central Park             21\n",
      "Name: zip_city, dtype: int64\n",
      "503    1735\n",
      "501    1140\n",
      "413    1026\n",
      "502     860\n",
      "411     843\n",
      "407     778\n",
      "405     672\n",
      "305     620\n",
      "408     560\n",
      "412     517\n",
      "318     505\n",
      "301     503\n",
      "410     486\n",
      "108     442\n",
      "107     435\n",
      "306     414\n",
      "303     397\n",
      "302     379\n",
      "414     379\n",
      "209     358\n",
      "210     353\n",
      "315     338\n",
      "314     303\n",
      "406     296\n",
      "212     271\n",
      "307     263\n",
      "312     257\n",
      "101     252\n",
      "211     250\n",
      "310     250\n",
      "402     229\n",
      "409     225\n",
      "401     214\n",
      "111     184\n",
      "403     175\n",
      "316     174\n",
      "404     172\n",
      "112     170\n",
      "103     156\n",
      "110     149\n",
      "205     148\n",
      "208     141\n",
      "311     140\n",
      "206     140\n",
      "109     139\n",
      "317     136\n",
      "202     135\n",
      "104     134\n",
      "102     133\n",
      "308     133\n",
      "204     129\n",
      "203     128\n",
      "201     128\n",
      "309     119\n",
      "304     117\n",
      "207      89\n",
      "106      87\n",
      "313      71\n",
      "105       7\n",
      "Name: cb_num, dtype: int64\n",
      "24    2905\n",
      "11    1885\n",
      "15    1503\n",
      "23    1035\n",
      "10    1028\n",
      "34     965\n",
      "25     963\n",
      "14     830\n",
      "19     771\n",
      "26     750\n",
      "22     711\n",
      "18     632\n",
      "21     560\n",
      "16     550\n",
      "28     508\n",
      "32     480\n",
      "30     478\n",
      "17     466\n",
      "20     417\n",
      "29     400\n",
      "13     399\n",
      "31     388\n",
      "27     380\n",
      "12     377\n",
      "33     308\n",
      "36     295\n",
      "Name: st_senate, dtype: int64\n",
      "62    1459\n",
      "64     827\n",
      "63     789\n",
      "61     783\n",
      "26     696\n",
      "      ... \n",
      "47     107\n",
      "74      92\n",
      "72      89\n",
      "78      88\n",
      "49      54\n",
      "Name: st_assem, Length: 65, dtype: int64\n",
      "51    1604\n",
      "50    1093\n",
      "49    1038\n",
      "19     889\n",
      "23     849\n",
      "31     788\n",
      "30     660\n",
      "24     539\n",
      "32     538\n",
      "33     529\n",
      "13     485\n",
      "46     449\n",
      "39     429\n",
      "35     413\n",
      "29     413\n",
      "42     396\n",
      "27     393\n",
      "4      382\n",
      "36     371\n",
      "28     365\n",
      "6      355\n",
      "37     347\n",
      "18     337\n",
      "17     334\n",
      "20     326\n",
      "1      320\n",
      "43     282\n",
      "48     278\n",
      "9      270\n",
      "38     269\n",
      "41     267\n",
      "3      265\n",
      "34     264\n",
      "44     256\n",
      "11     249\n",
      "12     245\n",
      "45     239\n",
      "47     233\n",
      "7      229\n",
      "26     214\n",
      "15     207\n",
      "22     194\n",
      "25     181\n",
      "8      177\n",
      "14     175\n",
      "21     169\n",
      "16     163\n",
      "40     151\n",
      "10     140\n",
      "5      127\n",
      "2       98\n",
      "Name: cncldist, dtype: int64\n"
     ]
    }
   ],
   "source": [
    "for col in train.columns:\n",
    "    print(train.loc[:,col].value_counts())"
   ]
  },
  {
   "cell_type": "code",
   "execution_count": 8,
   "metadata": {},
   "outputs": [],
   "source": [
    "from sklearn.model_selection import train_test_split\n",
    "from lib.preprocess import Preprocess\n",
    "train, valid = train_test_split(train, test_size=0.2, random_state=42, stratify=train[\"health\"])\n",
    "\n",
    "x_train = train.drop(\"health\", axis=1)\n",
    "y_train = train[\"health\"]\n",
    "x_valid = valid.drop(\"health\", axis=1)\n",
    "y_valid = valid[\"health\"]\n",
    "\n",
    "ignore_columns = [\n",
    "    \"nta_name\",\n",
    "    \"boro_ct\",\n",
    "    \"spc_latin\",\n",
    "]\n",
    "# get object columns\n",
    "object_columns = [col for col in x_train.select_dtypes(include=[\"object\"]).columns.tolist() if col not in ignore_columns]\n",
    "config = {\n",
    "    \"object_columns\": object_columns,\n",
    "    \"is_target_encode\": False,\n",
    "}\n",
    "\n",
    "preprocess = Preprocess(config)\n",
    "x_train = pd.DataFrame(preprocess.fit_transform(x_train, y_train), columns=preprocess.get_feature_names_out(), index=x_train.index)\n",
    "x_valid = pd.DataFrame(preprocess.transform(x_valid), columns=preprocess.get_feature_names_out(), index=x_valid.index)"
   ]
  },
  {
   "cell_type": "code",
   "execution_count": 9,
   "metadata": {},
   "outputs": [],
   "source": [
    "x_train.cat__steward.fillna(-10, inplace=True)\n",
    "x_valid.cat__steward.fillna(-10, inplace=True)\n",
    "x_train.cat__guards.fillna(-10, inplace=True)\n",
    "x_valid.cat__guards.fillna(-10, inplace=True)"
   ]
  },
  {
   "cell_type": "code",
   "execution_count": 10,
   "metadata": {},
   "outputs": [
    {
     "data": {
      "text/html": [
       "<div>\n",
       "<style scoped>\n",
       "    .dataframe tbody tr th:only-of-type {\n",
       "        vertical-align: middle;\n",
       "    }\n",
       "\n",
       "    .dataframe tbody tr th {\n",
       "        vertical-align: top;\n",
       "    }\n",
       "\n",
       "    .dataframe thead th {\n",
       "        text-align: right;\n",
       "    }\n",
       "</style>\n",
       "<table border=\"1\" class=\"dataframe\">\n",
       "  <thead>\n",
       "    <tr style=\"text-align: right;\">\n",
       "      <th></th>\n",
       "      <th>all</th>\n",
       "      <th>steward</th>\n",
       "      <th>guards</th>\n",
       "      <th>both</th>\n",
       "    </tr>\n",
       "  </thead>\n",
       "  <tbody>\n",
       "    <tr>\n",
       "      <th>1</th>\n",
       "      <td>12601</td>\n",
       "      <td>9391</td>\n",
       "      <td>9576</td>\n",
       "      <td>8309</td>\n",
       "    </tr>\n",
       "    <tr>\n",
       "      <th>0</th>\n",
       "      <td>2828</td>\n",
       "      <td>2059</td>\n",
       "      <td>1964</td>\n",
       "      <td>1726</td>\n",
       "    </tr>\n",
       "    <tr>\n",
       "      <th>2</th>\n",
       "      <td>558</td>\n",
       "      <td>446</td>\n",
       "      <td>408</td>\n",
       "      <td>367</td>\n",
       "    </tr>\n",
       "  </tbody>\n",
       "</table>\n",
       "</div>"
      ],
      "text/plain": [
       "     all  steward  guards  both\n",
       "1  12601     9391    9576  8309\n",
       "0   2828     2059    1964  1726\n",
       "2    558      446     408   367"
      ]
     },
     "execution_count": 10,
     "metadata": {},
     "output_type": "execute_result"
    }
   ],
   "source": [
    "health_drop_df = pd.concat([\n",
    "    y_train.value_counts(),\n",
    "    y_train.loc[x_train.cat__steward==-10].value_counts(),\n",
    "    y_train.loc[x_train.cat__guards==-10].value_counts(),\n",
    "    y_train.loc[(x_train.cat__steward==-10)&(x_train.cat__guards==-10)].value_counts(),\n",
    "], axis=1)\n",
    "health_drop_df.columns = [\"all\", \"steward\", \"guards\", \"both\"]\n",
    "# health_drop_df = health_drop_df / health_drop_df.loc[:, \"all\"].values.reshape(-1, 1)# normalize by all\n",
    "health_drop_df"
   ]
  },
  {
   "cell_type": "code",
   "execution_count": 11,
   "metadata": {},
   "outputs": [
    {
     "data": {
      "text/plain": [
       "2.0    0.497226\n",
       "1.0    0.340871\n",
       "0.0    0.161903\n",
       "Name: cat__user_type, dtype: float64"
      ]
     },
     "execution_count": 11,
     "metadata": {},
     "output_type": "execute_result"
    }
   ],
   "source": [
    "x_train.loc[x_train.cat__steward==-10,\"cat__user_type\"].value_counts(normalize=True)"
   ]
  },
  {
   "cell_type": "code",
   "execution_count": 12,
   "metadata": {},
   "outputs": [
    {
     "data": {
      "text/plain": [
       "2.0    0.559705\n",
       "1.0    0.290611\n",
       "0.0    0.149684\n",
       "Name: cat__user_type, dtype: float64"
      ]
     },
     "execution_count": 12,
     "metadata": {},
     "output_type": "execute_result"
    }
   ],
   "source": [
    "x_train.loc[:,\"cat__user_type\"].value_counts(normalize=True)"
   ]
  },
  {
   "cell_type": "code",
   "execution_count": 13,
   "metadata": {},
   "outputs": [
    {
     "data": {
      "text/plain": [
       "2.0    0.494560\n",
       "1.0    0.341145\n",
       "0.0    0.164295\n",
       "Name: cat__user_type, dtype: float64"
      ]
     },
     "execution_count": 13,
     "metadata": {},
     "output_type": "execute_result"
    }
   ],
   "source": [
    "x_train.loc[x_train.cat__guards==-10,\"cat__user_type\"].value_counts(normalize=True)"
   ]
  },
  {
   "cell_type": "code",
   "execution_count": 14,
   "metadata": {},
   "outputs": [
    {
     "data": {
      "text/plain": [
       "created_at        0\n",
       "tree_dbh          0\n",
       "curb_loc          0\n",
       "steward       14526\n",
       "guards        14567\n",
       "sidewalk          0\n",
       "user_type         0\n",
       "problems      12045\n",
       "spc_common        0\n",
       "spc_latin         0\n",
       "nta               0\n",
       "nta_name          0\n",
       "borocode          0\n",
       "boro_ct           0\n",
       "boroname          0\n",
       "zip_city          0\n",
       "cb_num            0\n",
       "st_senate         0\n",
       "st_assem          0\n",
       "cncldist          0\n",
       "dtype: int64"
      ]
     },
     "execution_count": 14,
     "metadata": {},
     "output_type": "execute_result"
    }
   ],
   "source": [
    "x_test.isna().sum()"
   ]
  },
  {
   "cell_type": "code",
   "execution_count": 15,
   "metadata": {},
   "outputs": [
    {
     "data": {
      "text/plain": [
       "Text(0.5, 1.0, 'tree_dbh all')"
      ]
     },
     "execution_count": 15,
     "metadata": {},
     "output_type": "execute_result"
    },
    {
     "data": {
      "image/png": "[encoded data removed]",
      "text/plain": [
       "<Figure size 640x480 with 1 Axes>"
      ]
     },
     "metadata": {},
     "output_type": "display_data"
    }
   ],
   "source": [
    "import numpy as np\n",
    "import matplotlib.pyplot as plt\n",
    "train[\"tree_dbh\"].hist(bins=80)\n",
    "plt.title(f\"tree_dbh all\")"
   ]
  },
  {
   "cell_type": "code",
   "execution_count": 16,
   "metadata": {},
   "outputs": [
    {
     "data": {
      "text/plain": [
       "Text(0.5, 1.0, 'tree_dbh all in test data')"
      ]
     },
     "execution_count": 16,
     "metadata": {},
     "output_type": "execute_result"
    },
    {
     "data": {
      "image/png": "[encoded data removed]",
      "text/plain": [
       "<Figure size 640x480 with 1 Axes>"
      ]
     },
     "metadata": {},
     "output_type": "display_data"
    }
   ],
   "source": [
    "x_test[\"tree_dbh\"].hist(bins=80)\n",
    "plt.title(f\"tree_dbh all in test data\")"
   ]
  },
  {
   "cell_type": "code",
   "execution_count": 17,
   "metadata": {},
   "outputs": [
    {
     "data": {
      "text/plain": [
       "(0.0, 1700.0)"
      ]
     },
     "execution_count": 17,
     "metadata": {},
     "output_type": "execute_result"
    },
    {
     "data": {
      "image/png": "[encoded data removed]",
      "text/plain": [
       "<Figure size 640x480 with 1 Axes>"
      ]
     },
     "metadata": {},
     "output_type": "display_data"
    }
   ],
   "source": [
    "train.loc[train.health==0,\"tree_dbh\"].hist(bins=80)\n",
    "plt.title(f\"tree_dbh good\")\n",
    "plt.ylim(0,1700)"
   ]
  },
  {
   "cell_type": "code",
   "execution_count": 18,
   "metadata": {},
   "outputs": [
    {
     "data": {
      "text/plain": [
       "(0.0, 1700.0)"
      ]
     },
     "execution_count": 18,
     "metadata": {},
     "output_type": "execute_result"
    },
    {
     "data": {
      "image/png": "[encoded data removed]",
      "text/plain": [
       "<Figure size 640x480 with 1 Axes>"
      ]
     },
     "metadata": {},
     "output_type": "display_data"
    }
   ],
   "source": [
    "train.loc[train.health==1,\"tree_dbh\"].hist(bins=80)\n",
    "plt.title(f\"tree_dbh normal\")\n",
    "plt.ylim(0,1700)"
   ]
  },
  {
   "cell_type": "code",
   "execution_count": 19,
   "metadata": {},
   "outputs": [
    {
     "data": {
      "text/plain": [
       "(0.0, 1700.0)"
      ]
     },
     "execution_count": 19,
     "metadata": {},
     "output_type": "execute_result"
    },
    {
     "data": {
      "image/png": "[encoded data removed]",
      "text/plain": [
       "<Figure size 640x480 with 1 Axes>"
      ]
     },
     "metadata": {},
     "output_type": "display_data"
    }
   ],
   "source": [
    "train.loc[train.health==0,\"tree_dbh\"].hist(bins=80)\n",
    "plt.title(f\"tree_dbh bad\")\n",
    "plt.ylim(0,1700)"
   ]
  },
  {
   "cell_type": "code",
   "execution_count": 20,
   "metadata": {},
   "outputs": [
    {
     "data": {
      "text/plain": [
       "array(['American elm', 'pin oak', 'red maple', 'Callery pear',\n",
       "       'London planetree', 'Siberian elm', 'empress tree', 'cherry',\n",
       "       'Chinese elm', 'green ash', 'Norway maple', 'Sophora', 'pine',\n",
       "       'honeylocust', 'American linden', 'hedge maple',\n",
       "       'littleleaf linden', 'Japanese zelkova', 'swamp white oak',\n",
       "       'silver maple', 'English oak', 'ginkgo', 'black walnut',\n",
       "       \"'Schubert' chokecherry\", 'crimson king maple', 'sawtooth oak',\n",
       "       'hawthorn', 'northern red oak', 'golden raintree', 'sweetgum',\n",
       "       'cucumber magnolia', 'American hophornbeam', 'maple',\n",
       "       'black locust', 'eastern redcedar', 'silver birch', 'scarlet oak',\n",
       "       'shingle oak', 'European hornbeam', 'Japanese tree lilac',\n",
       "       'silver linden', 'Persian ironwood', 'quaking aspen',\n",
       "       'dawn redwood', 'sugar maple', 'Amur maackia', 'crab apple',\n",
       "       'purple-leaf plum', 'arborvitae', 'willow oak', 'eastern redbud',\n",
       "       'Amur maple', 'eastern cottonwood', 'river birch', 'magnolia',\n",
       "       \"Schumard's oak\", 'blue spruce', 'Amur cork tree', 'false cypress',\n",
       "       'bald cypress', 'Kentucky coffeetree', 'Ohio buckeye',\n",
       "       'katsura tree', 'American hornbeam', 'Atlantic white cedar',\n",
       "       'Japanese snowbell', 'spruce', 'serviceberry', 'bigtooth aspen',\n",
       "       'ash', 'eastern hemlock', 'catalpa', 'tulip-poplar',\n",
       "       'southern magnolia', 'white oak', 'Atlas cedar', 'pitch pine',\n",
       "       'flowering dogwood', 'sassafras', 'hardy rubber tree',\n",
       "       'Chinese fringetree', 'Japanese maple', 'crepe myrtle', 'blackgum',\n",
       "       'kousa dogwood', 'sycamore maple', 'white ash', 'Cornelian cherry',\n",
       "       'black oak', 'white pine', 'Turkish hazelnut', 'pignut hickory',\n",
       "       'weeping willow', 'Shantung maple', 'horse chestnut',\n",
       "       'Norway spruce', 'holly', 'paperbark maple', 'mulberry',\n",
       "       'paper birch', 'tree of heaven', 'tartar maple',\n",
       "       'two-winged silverbell', 'common hackberry', 'black cherry',\n",
       "       'red horse chestnut', 'bur oak', 'American beech',\n",
       "       'Japanese hornbeam', 'red pine', 'Chinese tree lilac',\n",
       "       'Oklahoma redbud', 'Chinese chestnut', 'trident maple',\n",
       "       'pagoda dogwood', 'pond cypress', 'European beech',\n",
       "       'cockspur hawthorn', 'Kentucky yellowwood', 'Himalayan cedar'],\n",
       "      dtype=object)"
      ]
     },
     "execution_count": 20,
     "metadata": {},
     "output_type": "execute_result"
    }
   ],
   "source": [
    "train.spc_common.unique()"
   ]
  },
  {
   "cell_type": "code",
   "execution_count": 21,
   "metadata": {},
   "outputs": [
    {
     "data": {
      "text/plain": [
       "Index(['created_at', 'tree_dbh', 'curb_loc', 'health', 'steward', 'guards',\n",
       "       'sidewalk', 'user_type', 'problems', 'spc_common', 'spc_latin', 'nta',\n",
       "       'nta_name', 'borocode', 'boro_ct', 'boroname', 'zip_city', 'cb_num',\n",
       "       'st_senate', 'st_assem', 'cncldist'],\n",
       "      dtype='object')"
      ]
     },
     "execution_count": 21,
     "metadata": {},
     "output_type": "execute_result"
    }
   ],
   "source": [
    "train.columns"
   ]
  },
  {
   "cell_type": "code",
   "execution_count": 22,
   "metadata": {},
   "outputs": [
    {
     "data": {
      "text/plain": [
       "('spc_latin', 'Ulmus americana', 0)"
      ]
     },
     "execution_count": 22,
     "metadata": {},
     "output_type": "execute_result"
    }
   ],
   "source": [
    "score = 0\n",
    "column = \"spc_latin\"\n",
    "unique = train.loc[:,column].unique()[0]\n",
    "for value, count in train.loc[train.loc[:,column]==unique,\"health\"].value_counts().items():\n",
    "    break\n",
    "    value+=1 # don't want to ignore health=0\n",
    "    score += value*count\n",
    "column,unique,score"
   ]
  },
  {
   "cell_type": "code",
   "execution_count": 23,
   "metadata": {},
   "outputs": [],
   "source": [
    "# from sklearn.preprocessing import TargetEncoder\n",
    "# te = TargetEncoder(target_type='continuous')\n",
    "# te.fit_transform(train.loc[:,column],train.loc[:,\"health\"])\n",
    "# te = TargetEncoder(target_type='continuous')\n",
    "# te.fit_transform(train.loc[:,column],train.loc[:,\"health\"])"
   ]
  },
  {
   "cell_type": "code",
   "execution_count": 24,
   "metadata": {},
   "outputs": [],
   "source": [
    "column = \"nta\"\n",
    "for unique in train.loc[:,column].unique():\n",
    "    break\n",
    "    train.loc[train.loc[:,column]==unique,\"tree_dbh\"].hist(bins=80)\n",
    "    plt.title(f\"tree_dbh {unique}\")\n",
    "    # plt.ylim(0,1700)\n",
    "    plt.savefig(f\"figs/dbh_by_nta/tree_dbh_{unique}.png\")\n",
    "    plt.close()"
   ]
  },
  {
   "cell_type": "code",
   "execution_count": 25,
   "metadata": {},
   "outputs": [
    {
     "data": {
      "text/plain": [
       "<AxesSubplot: >"
      ]
     },
     "execution_count": 25,
     "metadata": {},
     "output_type": "execute_result"
    },
    {
     "data": {
      "image/png": "[encoded data removed]",
      "text/plain": [
       "<Figure size 640x480 with 1 Axes>"
      ]
     },
     "metadata": {},
     "output_type": "display_data"
    }
   ],
   "source": [
    "train.loc[train.user_type=='Volunteer', 'tree_dbh'].hist(bins=80)"
   ]
  },
  {
   "cell_type": "code",
   "execution_count": 26,
   "metadata": {},
   "outputs": [
    {
     "data": {
      "text/plain": [
       "<AxesSubplot: >"
      ]
     },
     "execution_count": 26,
     "metadata": {},
     "output_type": "execute_result"
    },
    {
     "data": {
      "image/png": "[encoded data removed]",
      "text/plain": [
       "<Figure size 640x480 with 1 Axes>"
      ]
     },
     "metadata": {},
     "output_type": "display_data"
    }
   ],
   "source": [
    "import numpy as np\n",
    "train[\"tree_dbh\"].apply(lambda x: np.log(x)).hist(bins=80)"
   ]
  },
  {
   "cell_type": "code",
   "execution_count": 38,
   "metadata": {},
   "outputs": [
    {
     "name": "stderr",
     "output_type": "stream",
     "text": [
      "/tmp/ipykernel_16463/4007104244.py:3: FutureWarning: In a future version, `df.iloc[:, i] = newvals` will attempt to set the values inplace instead of always setting a new array. To retain the old behavior, use either `df[df.columns[i]] = newvals` or, if columns are non-unique, `df.isetitem(i, newvals)`\n",
      "  train.loc[:,\"created_at\"] = pd.to_datetime(train.loc[:,\"created_at\"], format=\"%m-%d\")\n"
     ]
    },
    {
     "data": {
      "text/plain": [
       "Text(0, 0.5, 'health')"
      ]
     },
     "execution_count": 38,
     "metadata": {},
     "output_type": "execute_result"
    },
    {
     "data": {
      "image/png": "[encoded data removed]",
      "text/plain": [
       "<Figure size 640x480 with 1 Axes>"
      ]
     },
     "metadata": {},
     "output_type": "display_data"
    }
   ],
   "source": [
    "# train.sort_values(\"created_at\").plot(x=\"created_at\", y=\"health\", kind=\"scatter\", s=0.1)\n",
    "# date format\n",
    "train.loc[:,\"created_at\"] = pd.to_datetime(train.loc[:,\"created_at\"], format=\"%m-%d\")\n",
    "train.sort_values(\"created_at\").plot(x=\"created_at\", y=\"health\", kind=\"scatter\", s=0.1)\n",
    "plt.xticks(rotation=90)\n",
    "plt.title(\"created_at vs health\")\n",
    "plt.xlabel(\"created_at\")\n",
    "plt.ylabel(\"health\")"
   ]
  }
 ],
 "metadata": {
  "kernelspec": {
   "display_name": "Python 3",
   "language": "python",
   "name": "python3"
  },
  "language_info": {
   "codemirror_mode": {
    "name": "ipython",
    "version": 3
   },
   "file_extension": ".py",
   "mimetype": "text/x-python",
   "name": "python",
   "nbconvert_exporter": "python",
   "pygments_lexer": "ipython3",
   "version": "3.10.12"
  }
 },
 "nbformat": 4,
 "nbformat_minor": 2
}
